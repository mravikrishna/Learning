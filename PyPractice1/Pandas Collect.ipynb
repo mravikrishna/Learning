{
 "cells": [
  {
   "cell_type": "code",
   "execution_count": 0,
   "metadata": {
    "application/vnd.databricks.v1+cell": {
     "cellMetadata": {
      "byteLimit": 2048000,
      "rowLimit": 10000
     },
     "inputWidgets": {},
     "nuid": "7f5c1e32-3213-40ce-8f40-1b9bea6c4677",
     "showTitle": false,
     "tableResultSettingsMap": {},
     "title": ""
    }
   },
   "outputs": [],
   "source": [
    "from pyspark.sql.functions import *\n",
    "\n",
    "\n",
    "list = [\n",
    "(\"B\",\"Pune\",\"Mumbai\"),\n",
    "(\"B\",\"Mumbai\",\"Pune\"),\n",
    "(\"M\",\"Pune\",\"Delhi\"),\n",
    "(\"D\",\"Mumbai\",\"Mumbai\"),\n",
    "(\"E\",\"Mumbai\",\"Pune\"),\n",
    "(\"E\",\"Pune\",\"Delhi\")\n",
    "]\n",
    "\n",
    "df = spark.createDataFrame(list,[\"name\",\"source\",\"destination\"])\n",
    "df.show()\n",
    "df.createOrReplaceTempView(\"data\")"
   ]
  },
  {
   "cell_type": "code",
   "execution_count": 0,
   "metadata": {
    "application/vnd.databricks.v1+cell": {
     "cellMetadata": {
      "byteLimit": 2048000,
      "rowLimit": 10000
     },
     "inputWidgets": {},
     "nuid": "45d8331b-314f-453f-bc9e-3edae60d0a21",
     "showTitle": false,
     "tableResultSettingsMap": {},
     "title": ""
    }
   },
   "outputs": [],
   "source": [
    "df.groupBy(\"name\").count().show(truncate =False)"
   ]
  },
  {
   "cell_type": "code",
   "execution_count": 0,
   "metadata": {
    "application/vnd.databricks.v1+cell": {
     "cellMetadata": {
      "byteLimit": 2048000,
      "rowLimit": 10000
     },
     "inputWidgets": {},
     "nuid": "ceae72c8-6f19-4e0e-aa91-172356c8e4a7",
     "showTitle": false,
     "tableResultSettingsMap": {},
     "title": ""
    }
   },
   "outputs": [],
   "source": [
    "import pandas as pd\n",
    "\n",
    "pd = df.collect()\n",
    "\n",
    "print(pd)\n",
    "\n",
    "for i in pd:\n",
    "    print(i.source)\n",
    "\n"
   ]
  }
 ],
 "metadata": {
  "application/vnd.databricks.v1+notebook": {
   "computePreferences": null,
   "dashboards": [],
   "environmentMetadata": {
    "base_environment": "",
    "environment_version": "2"
   },
   "inputWidgetPreferences": null,
   "language": "python",
   "notebookMetadata": {
    "pythonIndentUnit": 4
   },
   "notebookName": "Pandas Collect",
   "widgets": {}
  },
  "language_info": {
   "name": "python"
  }
 },
 "nbformat": 4,
 "nbformat_minor": 0
}
