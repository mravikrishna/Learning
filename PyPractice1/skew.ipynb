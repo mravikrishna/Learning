{
 "cells": [
  {
   "cell_type": "code",
   "execution_count": 0,
   "metadata": {
    "application/vnd.databricks.v1+cell": {
     "cellMetadata": {
      "byteLimit": 2048000,
      "rowLimit": 10000
     },
     "inputWidgets": {},
     "nuid": "13a38e56-99bf-4130-bb5a-97994464115c",
     "showTitle": false,
     "tableResultSettingsMap": {},
     "title": ""
    }
   },
   "outputs": [],
   "source": [
    "from pyspark.sql.functions import rand\n",
    "\n",
    "# Create a sample DataFrame\n",
    "data = [(\"A\", 1), (\"B\", 2), (\"C\", 3)]\n",
    "df = spark.createDataFrame(data,[\"id\",\"value\"])\n",
    "spark.conf.set(\"spark.sql.shuffle.partitions\",\"3\")\n",
    "part = int(spark.conf.get(\"spark.sql.shuffle.partitions\"))\n",
    "print(part)\n",
    "# Add a new column with random numbers\n",
    "df_with_rand = df.withColumn(\"random_value\",(rand()*part).cast('int'))\n",
    "df_with_rand.show()"
   ]
  }
 ],
 "metadata": {
  "application/vnd.databricks.v1+notebook": {
   "computePreferences": null,
   "dashboards": [],
   "environmentMetadata": {
    "base_environment": "",
    "environment_version": "2"
   },
   "inputWidgetPreferences": null,
   "language": "python",
   "notebookMetadata": {
    "pythonIndentUnit": 4
   },
   "notebookName": "skew",
   "widgets": {}
  },
  "language_info": {
   "name": "python"
  }
 },
 "nbformat": 4,
 "nbformat_minor": 0
}
