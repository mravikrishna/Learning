{
 "cells": [
  {
   "cell_type": "code",
   "execution_count": 0,
   "metadata": {
    "application/vnd.databricks.v1+cell": {
     "cellMetadata": {
      "byteLimit": 2048000,
      "implicitDf": true,
      "rowLimit": 10000
     },
     "inputWidgets": {},
     "nuid": "bc94dfe4-f00f-4aa9-8281-b6d251089468",
     "showTitle": false,
     "tableResultSettingsMap": {
      "0": {
       "dataGridStateBlob": "{\"version\":1,\"tableState\":{\"columnPinning\":{\"left\":[\"#row_number#\"],\"right\":[]},\"columnSizing\":{},\"columnVisibility\":{}},\"settings\":{\"columns\":{}},\"syncTimestamp\":1755242253966}",
       "filterBlob": null,
       "queryPlanFiltersBlob": null,
       "tableResultIndex": 0
      }
     },
     "title": ""
    }
   },
   "outputs": [],
   "source": [
    "%sql\n",
    "SELECT a, b, nth_value(b,1) OVER (PARTITION BY a ORDER BY b)\n",
    "    FROM VALUES ('A1', 6), ('A1', 1), ('A2', 3), ('A1', 4), ('B1', 4),('B1', 7),('B1', 9) tab(a, b);"
   ]
  },
  {
   "cell_type": "code",
   "execution_count": 0,
   "metadata": {
    "application/vnd.databricks.v1+cell": {
     "cellMetadata": {},
     "inputWidgets": {},
     "nuid": "ced1834c-dac4-4e34-b4ed-a5f9d03d3a5b",
     "showTitle": false,
     "tableResultSettingsMap": {},
     "title": ""
    }
   },
   "outputs": [],
   "source": [
    "import requests\n",
    "    import json\n",
    "\n",
    "    def call_external_api(param1, param2):\n",
    "        try:\n",
    "            url = f\"https://api.example.com/data?p1={param1}&p2={param2}\"\n",
    "            response = requests.get(url, timeout=10) # Set a timeout\n",
    "            response.raise_for_status() # Raise an exception for bad status codes\n",
    "            return response.json() # Return the JSON response\n",
    "        except requests.exceptions.RequestException as e:\n",
    "            print(f\"API call failed: {e}\")\n",
    "            return None # Handle errors gracefully"
   ]
  },
  {
   "cell_type": "code",
   "execution_count": 0,
   "metadata": {
    "application/vnd.databricks.v1+cell": {
     "cellMetadata": {},
     "inputWidgets": {},
     "nuid": "5ddb0b56-4c1e-4fb6-b64b-843eeaf5de33",
     "showTitle": false,
     "tableResultSettingsMap": {},
     "title": ""
    }
   },
   "outputs": [],
   "source": [
    " from pyspark.sql.functions import udf\n",
    "    from pyspark.sql.types import StringType, StructType, StructField, IntegerType\n",
    "\n",
    "    # Define a schema if the API returns structured data\n",
    "    api_response_schema = StructType([\n",
    "        StructField(\"id\", IntegerType(), True),\n",
    "        StructField(\"name\", StringType(), True)\n",
    "    ])\n",
    "\n",
    "    # Register the UDF with the appropriate return type\n",
    "    api_udf = udf(call_external_api, api_response_schema)\n",
    "    "
   ]
  },
  {
   "cell_type": "code",
   "execution_count": 0,
   "metadata": {
    "application/vnd.databricks.v1+cell": {
     "cellMetadata": {},
     "inputWidgets": {},
     "nuid": "0d1c7a12-574f-475e-aa82-7a50a0eec9a2",
     "showTitle": false,
     "tableResultSettingsMap": {},
     "title": ""
    }
   },
   "outputs": [],
   "source": [
    "  from pyspark.sql import SparkSession\n",
    "\n",
    "    spark = SparkSession.builder.appName(\"ApiUdfExample\").getOrCreate()\n",
    "\n",
    "    data = [(\"valueA\", \"valueX\"), (\"valueB\", \"valueY\")]\n",
    "    df = spark.createDataFrame(data, [\"col1\", \"col2\"])\n",
    "\n",
    "    # Apply the UDF to create a new column with API responses\n",
    "    df_with_api_data = df.withColumn(\"api_response\", api_udf(df[\"col1\"], df[\"col2\"]))\n",
    "\n",
    "    df_with_api_data.show()"
   ]
  }
 ],
 "metadata": {
  "application/vnd.databricks.v1+notebook": {
   "computePreferences": null,
   "dashboards": [],
   "environmentMetadata": {
    "base_environment": "",
    "environment_version": "2"
   },
   "inputWidgetPreferences": null,
   "language": "python",
   "notebookMetadata": {
    "mostRecentlyExecutedCommandWithImplicitDF": {
     "commandId": 8467705362575258,
     "dataframes": [
      "_sqldf"
     ]
    },
    "pythonIndentUnit": 4
   },
   "notebookName": "callAPI",
   "widgets": {}
  },
  "language_info": {
   "name": "python"
  }
 },
 "nbformat": 4,
 "nbformat_minor": 0
}
