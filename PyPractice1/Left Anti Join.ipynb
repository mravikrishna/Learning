{
 "cells": [
  {
   "cell_type": "code",
   "execution_count": 0,
   "metadata": {
    "application/vnd.databricks.v1+cell": {
     "cellMetadata": {
      "byteLimit": 2048000,
      "rowLimit": 10000
     },
     "inputWidgets": {},
     "nuid": "5673a951-cba5-4da5-bcea-2c0bcdb8d6a1",
     "showTitle": false,
     "tableResultSettingsMap": {},
     "title": ""
    }
   },
   "outputs": [],
   "source": [
    "from pyspark.sql import SparkSession\n",
    "\n",
    "spark = SparkSession.builder.appName(\"LeftAntiJoinExample\").getOrCreate()\n",
    "\n",
    "# Sample data for DataFrame df1\n",
    "data1 = [(\"Virat\", 1), (\"Bob\", 2), (\"Rohit\", 3), (\"Rinku\", 4)]\n",
    "columns1 = [\"Name\", \"ID\"]\n",
    "df1 = spark.createDataFrame(data1, columns1)\n",
    "\n",
    "# Sample data for DataFrame df2\n",
    "data2 = [(\"Virat\", 1), (\"Rohit\", 3)]\n",
    "columns2 = [\"Name\", \"ID\"]\n",
    "df2 = spark.createDataFrame(data2, columns2)\n",
    "\n",
    "# Perform left anti join\n",
    "left_anti_join_result = df1.join(df2, [\"Name\", \"ID\"], \"left_anti\")\n",
    "left_anti_join_result.show()"
   ]
  }
 ],
 "metadata": {
  "application/vnd.databricks.v1+notebook": {
   "computePreferences": null,
   "dashboards": [],
   "environmentMetadata": {
    "base_environment": "",
    "environment_version": "2"
   },
   "inputWidgetPreferences": null,
   "language": "python",
   "notebookMetadata": {
    "pythonIndentUnit": 4
   },
   "notebookName": "Left Anti Join",
   "widgets": {}
  },
  "language_info": {
   "name": "python"
  }
 },
 "nbformat": 4,
 "nbformat_minor": 0
}
