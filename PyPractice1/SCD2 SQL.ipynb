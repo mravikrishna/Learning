{
 "cells": [
  {
   "cell_type": "code",
   "execution_count": 0,
   "metadata": {
    "application/vnd.databricks.v1+cell": {
     "cellMetadata": {
      "byteLimit": 2048000,
      "implicitDf": true,
      "rowLimit": 10000
     },
     "inputWidgets": {},
     "nuid": "9b55d968-9bea-4e16-ab4f-b5355f7558c0",
     "showTitle": false,
     "tableResultSettingsMap": {},
     "title": ""
    }
   },
   "outputs": [],
   "source": [
    "%sql\n",
    "create database strange;\n",
    "use strange;\n",
    "CREATE TABLE employee (\n",
    "    id INT PRIMARY KEY,\n",
    "    name VARCHAR(100),\n",
    "    salary DECIMAL(10, 2),\n",
    "    start_date DATE,\n",
    "    end_date DATE,\n",
    "    is_active CHAR(1)\n",
    ");"
   ]
  },
  {
   "cell_type": "code",
   "execution_count": 0,
   "metadata": {
    "application/vnd.databricks.v1+cell": {
     "cellMetadata": {
      "byteLimit": 2048000,
      "implicitDf": true,
      "rowLimit": 10000
     },
     "inputWidgets": {},
     "nuid": "ff47007f-273a-4f5e-9268-d713b107b94f",
     "showTitle": false,
     "tableResultSettingsMap": {},
     "title": ""
    }
   },
   "outputs": [],
   "source": [
    "%sql\n",
    "truncate table employee;\n",
    "INSERT INTO employee (id, name, salary, start_date, end_date, is_active)\n",
    "VALUES \n",
    "    (1, 'Ravi', 50000, '2025-05-01', NULL, 'Y'),\n",
    "    (2, 'Krisna', 60000, '2025-05-01', NULL, 'Y');\n",
    "    "
   ]
  },
  {
   "cell_type": "code",
   "execution_count": 0,
   "metadata": {
    "application/vnd.databricks.v1+cell": {
     "cellMetadata": {
      "byteLimit": 2048000,
      "implicitDf": true,
      "rowLimit": 10000
     },
     "inputWidgets": {},
     "nuid": "680a7a5d-0b92-45d8-b01d-81b88fedb793",
     "showTitle": false,
     "tableResultSettingsMap": {},
     "title": ""
    }
   },
   "outputs": [],
   "source": [
    "%sql\n",
    "CREATE TABLE stg_employee (\n",
    "    id INT,\n",
    "    name VARCHAR(100),\n",
    "    salary DECIMAL(10, 2),\n",
    "    start_date DATE\n",
    ");"
   ]
  },
  {
   "cell_type": "code",
   "execution_count": 0,
   "metadata": {
    "application/vnd.databricks.v1+cell": {
     "cellMetadata": {
      "byteLimit": 2048000,
      "implicitDf": true,
      "rowLimit": 10000
     },
     "inputWidgets": {},
     "nuid": "8e2986d1-8967-4b8b-ac74-c79b1079ffb3",
     "showTitle": false,
     "tableResultSettingsMap": {},
     "title": ""
    }
   },
   "outputs": [],
   "source": [
    "%sql\n",
    "truncate table stg_employee;\n",
    "INSERT INTO stg_employee (id, name, salary, start_date)\n",
    "VALUES \n",
    "    (1, 'Ravi', 55000, '2026-05-01'), -- Updated record\n",
    "    (3, 'Hari', 70000, '2026-05-01'); -- New record\n",
    "    "
   ]
  },
  {
   "cell_type": "code",
   "execution_count": 0,
   "metadata": {
    "application/vnd.databricks.v1+cell": {
     "cellMetadata": {
      "byteLimit": 2048000,
      "implicitDf": true,
      "rowLimit": 10000
     },
     "inputWidgets": {},
     "nuid": "6a8c9efa-5924-4d0e-965a-864cf739ef94",
     "showTitle": false,
     "tableResultSettingsMap": {},
     "title": ""
    }
   },
   "outputs": [],
   "source": [
    "%sql\n",
    "    INSERT INTO employee (id, name, salary, start_date, end_date, is_active)\n",
    "SELECT id, name, salary, start_date, end_date, is_active \n",
    "FROM (\n",
    "    MERGE INTO employee AS target\n",
    "    USING stg_employee AS source\n",
    "    ON target.id = source.id AND target.is_active = 'Y'\n",
    "    WHEN MATCHED THEN\n",
    "        UPDATE SET \n",
    "            target.is_active = 'N',\n",
    "            target.end_date = GETDATE()\n",
    "    WHEN NOT MATCHED THEN\n",
    "        INSERT (id, name, salary, start_date, end_date, is_active)\n",
    "        VALUES (source.id, source.name, source.salary, GETDATE(), NULL, 'Y')\n",
    ") \n",
    "\n"
   ]
  },
  {
   "cell_type": "code",
   "execution_count": 0,
   "metadata": {
    "application/vnd.databricks.v1+cell": {
     "cellMetadata": {
      "byteLimit": 2048000,
      "implicitDf": true,
      "rowLimit": 10000
     },
     "inputWidgets": {},
     "nuid": "7cc3dd00-51e2-4a68-afa8-d0126e4ffdf0",
     "showTitle": false,
     "tableResultSettingsMap": {
      "0": {
       "dataGridStateBlob": "{\"version\":1,\"tableState\":{\"columnPinning\":{\"left\":[\"#row_number#\"],\"right\":[]},\"columnSizing\":{},\"columnVisibility\":{}},\"settings\":{\"columns\":{}},\"syncTimestamp\":1755537473648}",
       "filterBlob": null,
       "queryPlanFiltersBlob": null,
       "tableResultIndex": 0
      }
     },
     "title": ""
    }
   },
   "outputs": [],
   "source": [
    "%sql\n",
    "\n",
    "select * from employee"
   ]
  }
 ],
 "metadata": {
  "application/vnd.databricks.v1+notebook": {
   "computePreferences": null,
   "dashboards": [],
   "environmentMetadata": {
    "base_environment": "",
    "environment_version": "2"
   },
   "inputWidgetPreferences": null,
   "language": "python",
   "notebookMetadata": {
    "mostRecentlyExecutedCommandWithImplicitDF": {
     "commandId": 4921366519739693,
     "dataframes": [
      "_sqldf"
     ]
    },
    "pythonIndentUnit": 4
   },
   "notebookName": "SCD2 SQL",
   "widgets": {}
  },
  "language_info": {
   "name": "python"
  }
 },
 "nbformat": 4,
 "nbformat_minor": 0
}
