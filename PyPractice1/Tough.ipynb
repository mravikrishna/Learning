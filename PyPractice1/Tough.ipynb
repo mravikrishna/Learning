{
 "cells": [
  {
   "cell_type": "code",
   "execution_count": 0,
   "metadata": {
    "application/vnd.databricks.v1+cell": {
     "cellMetadata": {
      "byteLimit": 2048000,
      "rowLimit": 10000
     },
     "inputWidgets": {},
     "nuid": "566b335a-7fd0-48fe-b005-c1b6dc95b2b4",
     "showTitle": false,
     "tableResultSettingsMap": {},
     "title": ""
    }
   },
   "outputs": [],
   "source": [
    "List = [10,20,30,40,50,60]\n"
   ]
  },
  {
   "cell_type": "code",
   "execution_count": 0,
   "metadata": {
    "application/vnd.databricks.v1+cell": {
     "cellMetadata": {
      "byteLimit": 2048000,
      "rowLimit": 10000
     },
     "inputWidgets": {},
     "nuid": "91d0e025-8dae-4b43-b6ba-0e9b56996c67",
     "showTitle": false,
     "tableResultSettingsMap": {},
     "title": ""
    }
   },
   "outputs": [],
   "source": [
    "print(List)\n",
    "#print(tuple)\n",
    "#print(dict)\n",
    "#print(List[1:])\n",
    "#print(List[:5])\n",
    "#print(List[:1])\n",
    "#print(List[0:3])\n",
    "#print(List[1:3])\n",
    "#print(List[2:3])\n",
    "#print(List[::3])\n",
    "#print(List[::-1])\n",
    "#print(List[2:5])\n",
    "#print(List[:3])\n",
    "#print(List[3:5])\n",
    "print(List[1:4])\n"
   ]
  },
  {
   "cell_type": "code",
   "execution_count": 0,
   "metadata": {
    "application/vnd.databricks.v1+cell": {
     "cellMetadata": {
      "byteLimit": 2048000,
      "rowLimit": 10000
     },
     "inputWidgets": {},
     "nuid": "fd0e9356-98be-402e-860d-c2ca5902f9d8",
     "showTitle": false,
     "tableResultSettingsMap": {},
     "title": ""
    }
   },
   "outputs": [],
   "source": [
    "s = \"My name is {name} and I am {age} years old.\".format(name=\"Alice\",age= 22)\n",
    "print(s)"
   ]
  },
  {
   "cell_type": "code",
   "execution_count": 0,
   "metadata": {
    "application/vnd.databricks.v1+cell": {
     "cellMetadata": {
      "byteLimit": 2048000,
      "rowLimit": 10000
     },
     "inputWidgets": {},
     "nuid": "dc919800-791c-4605-85da-6444c65a0d37",
     "showTitle": false,
     "tableResultSettingsMap": {},
     "title": ""
    }
   },
   "outputs": [],
   "source": [
    "s=\"hello world\"\n",
    "print(\"world\" in s)"
   ]
  },
  {
   "cell_type": "code",
   "execution_count": 0,
   "metadata": {
    "application/vnd.databricks.v1+cell": {
     "cellMetadata": {
      "byteLimit": 2048000,
      "rowLimit": 10000
     },
     "inputWidgets": {},
     "nuid": "fba97a0e-54c8-480b-84a0-4bff5a27f99e",
     "showTitle": false,
     "tableResultSettingsMap": {},
     "title": ""
    }
   },
   "outputs": [],
   "source": [
    "l = [\"hello\",\"world\"]\n",
    "print(' '.join(l))"
   ]
  },
  {
   "cell_type": "code",
   "execution_count": 0,
   "metadata": {
    "application/vnd.databricks.v1+cell": {
     "cellMetadata": {
      "byteLimit": 2048000,
      "rowLimit": 10000
     },
     "inputWidgets": {},
     "nuid": "b86f84ef-a7f0-4237-bc46-6bb4834cddfb",
     "showTitle": false,
     "tableResultSettingsMap": {},
     "title": ""
    }
   },
   "outputs": [],
   "source": [
    "s = \"hello world user\"\n",
    "l = s.split()\n",
    "print(l)\n",
    "print(' '.join(l))"
   ]
  },
  {
   "cell_type": "code",
   "execution_count": 0,
   "metadata": {
    "application/vnd.databricks.v1+cell": {
     "cellMetadata": {
      "byteLimit": 2048000,
      "rowLimit": 10000
     },
     "inputWidgets": {},
     "nuid": "cce3ef71-6298-43cf-89b5-270a68329361",
     "showTitle": false,
     "tableResultSettingsMap": {},
     "title": ""
    }
   },
   "outputs": [],
   "source": [
    "input = \"geEksforGEeks\"\n",
    "Output =\"geEksforG\"\n",
    "l=[*input]\n",
    "print(l)\n",
    "a =[]\n",
    "for i in l:\n",
    "    if i in a:\n",
    "        continue\n",
    "    else:\n",
    "        a.append(i) \n",
    "\n",
    "print(input)\n",
    "print(''.join(a))\n",
    "\n"
   ]
  },
  {
   "cell_type": "code",
   "execution_count": 0,
   "metadata": {
    "application/vnd.databricks.v1+cell": {
     "cellMetadata": {
      "byteLimit": 2048000,
      "rowLimit": 10000
     },
     "inputWidgets": {},
     "nuid": "ab5888af-dc74-4f75-a755-dabe67d48ce7",
     "showTitle": false,
     "tableResultSettingsMap": {},
     "title": ""
    }
   },
   "outputs": [],
   "source": [
    "input = \"HaPpyNewYear\"\n",
    "output = \"HaPpyNewYr\"\n",
    "\n",
    "l = [*input]\n",
    "a =[]\n",
    "for i in l:\n",
    "    if i in a:\n",
    "        continue\n",
    "    else:\n",
    "        a.append(i)\n",
    "print(input)        \n",
    "print(output)\n",
    "print(''.join(a))\n"
   ]
  },
  {
   "cell_type": "code",
   "execution_count": 0,
   "metadata": {
    "application/vnd.databricks.v1+cell": {
     "cellMetadata": {
      "byteLimit": 2048000,
      "rowLimit": 10000
     },
     "inputWidgets": {},
     "nuid": "2fffce5f-3bee-4f6c-b22b-e7fe4bb69976",
     "showTitle": false,
     "tableResultSettingsMap": {},
     "title": ""
    }
   },
   "outputs": [],
   "source": [
    "s = \"hello world\"\n",
    "rl = s[::-1]\n",
    "print(''.join(rl))"
   ]
  },
  {
   "cell_type": "code",
   "execution_count": 0,
   "metadata": {
    "application/vnd.databricks.v1+cell": {
     "cellMetadata": {
      "byteLimit": 2048000,
      "rowLimit": 10000
     },
     "inputWidgets": {},
     "nuid": "3ae91e2f-b807-4ae9-b89c-a15556eb68cc",
     "showTitle": false,
     "tableResultSettingsMap": {},
     "title": ""
    }
   },
   "outputs": [],
   "source": [
    "s = \"hello\"\n",
    "nl =[]\n",
    "for i in [*s]:\n",
    "    nl.insert(0,i)\n",
    "print(''.join(nl))\n"
   ]
  },
  {
   "cell_type": "code",
   "execution_count": 0,
   "metadata": {
    "application/vnd.databricks.v1+cell": {
     "cellMetadata": {
      "byteLimit": 2048000,
      "rowLimit": 10000
     },
     "inputWidgets": {},
     "nuid": "185df7be-28a2-4b6f-a33e-5864facd8007",
     "showTitle": false,
     "tableResultSettingsMap": {},
     "title": ""
    }
   },
   "outputs": [],
   "source": [
    "s =\"hello\"\n",
    "for i in s:\n",
    "    print(i)"
   ]
  },
  {
   "cell_type": "code",
   "execution_count": 0,
   "metadata": {
    "application/vnd.databricks.v1+cell": {
     "cellMetadata": {
      "byteLimit": 2048000,
      "rowLimit": 10000
     },
     "inputWidgets": {},
     "nuid": "f0bff8d9-ee8b-4912-853f-2000a9b73a80",
     "showTitle": false,
     "tableResultSettingsMap": {},
     "title": ""
    }
   },
   "outputs": [],
   "source": [
    "t = (1, 2, [3, 4])\n",
    "#t[0]=9\n",
    "t[2][0]=5\n",
    "#print(t.sort())"
   ]
  },
  {
   "cell_type": "code",
   "execution_count": 0,
   "metadata": {
    "application/vnd.databricks.v1+cell": {
     "cellMetadata": {
      "byteLimit": 2048000,
      "rowLimit": 10000
     },
     "inputWidgets": {},
     "nuid": "73aa64cb-a4ed-4a3b-ae5f-fb73f4c9aa3c",
     "showTitle": false,
     "tableResultSettingsMap": {},
     "title": ""
    }
   },
   "outputs": [],
   "source": [
    "print(List)\n",
    "\n",
    "newlist = [i for i in List if i%3==0] \n",
    "print(newlist)    "
   ]
  },
  {
   "cell_type": "code",
   "execution_count": 0,
   "metadata": {
    "application/vnd.databricks.v1+cell": {
     "cellMetadata": {
      "byteLimit": 2048000,
      "rowLimit": 10000
     },
     "inputWidgets": {},
     "nuid": "72fe1c49-d7e2-48c3-80d9-7da150186cbe",
     "showTitle": false,
     "tableResultSettingsMap": {},
     "title": ""
    }
   },
   "outputs": [],
   "source": [
    "a ,b = 10,20\n",
    "min = a if a < b else b\n",
    "print(min)"
   ]
  },
  {
   "cell_type": "code",
   "execution_count": 0,
   "metadata": {
    "application/vnd.databricks.v1+cell": {
     "cellMetadata": {
      "byteLimit": 2048000,
      "rowLimit": 10000
     },
     "inputWidgets": {},
     "nuid": "b873e082-b31d-4c6a-9a83-42a70daaec50",
     "showTitle": false,
     "tableResultSettingsMap": {},
     "title": ""
    }
   },
   "outputs": [],
   "source": [
    "\n",
    "name = \"Alex\"\n",
    "age = 0\n",
    "\n",
    "if name == \"Alex\" or name == \"John\" and age >= 2:\n",
    "    print(\"Hello! Welcome.\")\n",
    "else:\n",
    "    print(\"Good Bye!!\")"
   ]
  },
  {
   "cell_type": "code",
   "execution_count": 0,
   "metadata": {
    "application/vnd.databricks.v1+cell": {
     "cellMetadata": {
      "byteLimit": 2048000,
      "rowLimit": 10000
     },
     "inputWidgets": {},
     "nuid": "d4b9f7d9-ea44-4336-80d4-81d53a9de5db",
     "showTitle": false,
     "tableResultSettingsMap": {},
     "title": ""
    }
   },
   "outputs": [],
   "source": [
    "t =(1,2,3,4,5,5,2,1)\n",
    "print(t)"
   ]
  },
  {
   "cell_type": "code",
   "execution_count": 0,
   "metadata": {
    "application/vnd.databricks.v1+cell": {
     "cellMetadata": {
      "byteLimit": 2048000,
      "rowLimit": 10000
     },
     "inputWidgets": {},
     "nuid": "f932648c-ee05-409d-8e2a-0c3d9cc8eeb2",
     "showTitle": false,
     "tableResultSettingsMap": {},
     "title": ""
    }
   },
   "outputs": [],
   "source": [
    "s = set([1,2,3,3,4,7,1])\n",
    "print(s)\n",
    "\n",
    "s1 =set(\"ravi\")\n",
    "print(s1)"
   ]
  },
  {
   "cell_type": "code",
   "execution_count": 0,
   "metadata": {
    "application/vnd.databricks.v1+cell": {
     "cellMetadata": {
      "byteLimit": 2048000,
      "rowLimit": 10000
     },
     "inputWidgets": {},
     "nuid": "428f9d37-4516-456f-84b3-ab8437e77c55",
     "showTitle": false,
     "tableResultSettingsMap": {},
     "title": ""
    }
   },
   "outputs": [],
   "source": [
    "d ={1:\"ra\",2:\"vi\",3:\"kri\",1:\"na\"}\n",
    "print(d)\n"
   ]
  },
  {
   "cell_type": "code",
   "execution_count": 0,
   "metadata": {
    "application/vnd.databricks.v1+cell": {
     "cellMetadata": {
      "byteLimit": 2048000,
      "rowLimit": 10000
     },
     "inputWidgets": {},
     "nuid": "2501a76a-82d4-483b-b946-2a9ca6c5b37b",
     "showTitle": false,
     "tableResultSettingsMap": {},
     "title": ""
    }
   },
   "outputs": [],
   "source": [
    "x ={1:\"rav\", \"name\":1 , 10.2:\"float\", 2+3j :\"complex\"}\n",
    "print(x)"
   ]
  },
  {
   "cell_type": "code",
   "execution_count": 0,
   "metadata": {
    "application/vnd.databricks.v1+cell": {
     "cellMetadata": {
      "byteLimit": 2048000,
      "rowLimit": 10000
     },
     "inputWidgets": {},
     "nuid": "a5684fa4-b301-4e75-9e33-890c47cb2c22",
     "showTitle": false,
     "tableResultSettingsMap": {},
     "title": ""
    }
   },
   "outputs": [],
   "source": [
    "s1= (lambda x : \"positive\" if x >0 else \"negative\" if x <0 else \"0\")\n",
    "s2 =10\n",
    "print(s1(s2))"
   ]
  },
  {
   "cell_type": "code",
   "execution_count": 0,
   "metadata": {
    "application/vnd.databricks.v1+cell": {
     "cellMetadata": {
      "byteLimit": 2048000,
      "rowLimit": 10000
     },
     "inputWidgets": {},
     "nuid": "5261aadf-d7d0-4857-aeed-11d3720a2ed3",
     "showTitle": false,
     "tableResultSettingsMap": {},
     "title": ""
    }
   },
   "outputs": [],
   "source": [
    "a = [\"name\", \"age\", \"city\"]\n",
    "b = [\"Alice\", 30, \"New York\"]\n",
    "\n",
    "d = dict(zip(a,b))\n",
    "print(d)\n",
    "\n",
    "\n"
   ]
  },
  {
   "cell_type": "code",
   "execution_count": 0,
   "metadata": {
    "application/vnd.databricks.v1+cell": {
     "cellMetadata": {
      "byteLimit": 2048000,
      "rowLimit": 10000
     },
     "inputWidgets": {},
     "nuid": "4af022ee-a08b-4051-be31-066693ee3db2",
     "showTitle": false,
     "tableResultSettingsMap": {},
     "title": ""
    }
   },
   "outputs": [],
   "source": [
    "nd = {v:k for (k,v) in zip(a,b)}  \n",
    "\n",
    "print(d)\n",
    "print(nd)    \n"
   ]
  },
  {
   "cell_type": "code",
   "execution_count": 0,
   "metadata": {
    "application/vnd.databricks.v1+cell": {
     "cellMetadata": {
      "byteLimit": 2048000,
      "rowLimit": 10000
     },
     "inputWidgets": {},
     "nuid": "43a0e59b-3d84-49e9-8beb-811082a33409",
     "showTitle": false,
     "tableResultSettingsMap": {},
     "title": ""
    }
   },
   "outputs": [],
   "source": [
    "a = [\"name\", \"age\", \"city\"]  \n",
    "b = [[\"Alice\", 25, \"New York\"], [\"Bob\", 30, \"Los Angeles\"], [\"Charlie\", 22, \"Chicago\"]] \n",
    "\n",
    "# Create a list of dictionaries by zipping keys with each sublist of values\n",
    "#ans = [dict(zip(a, values)) for values in b]\n",
    "for i in b:print(i)"
   ]
  },
  {
   "cell_type": "code",
   "execution_count": 0,
   "metadata": {
    "application/vnd.databricks.v1+cell": {
     "cellMetadata": {
      "byteLimit": 2048000,
      "rowLimit": 10000
     },
     "inputWidgets": {},
     "nuid": "81abc384-bc7d-46c1-b0fc-a0ad1e930a13",
     "showTitle": false,
     "tableResultSettingsMap": {},
     "title": ""
    }
   },
   "outputs": [],
   "source": [
    "d = {\"Gfg\": \"1:2:3\", \"best\": \"4:8:11\"}\n",
    "\n",
    "# Splitting values and using zip to pair corresponding elements\n",
    "sp =[*[v.split(':') for v in d.values()]]\n",
    "print(sp)\n",
    "\n",
    "sp1 =zip(*[v.split(':') for v in d.values()])\n",
    "print(sp1)\n",
    "\n",
    "#res = [dict(zip(d.keys(), vals)) for vals in zip(*[v.split(':') for v in d.values()])]\n",
    "#print(res)\n",
    "#print(*[v.split(':') for v in d.values()])"
   ]
  },
  {
   "cell_type": "code",
   "execution_count": 0,
   "metadata": {
    "application/vnd.databricks.v1+cell": {
     "cellMetadata": {
      "byteLimit": 2048000,
      "rowLimit": 10000
     },
     "inputWidgets": {},
     "nuid": "5bc2ea5f-eb7d-45e5-a217-420ddec33cbc",
     "showTitle": false,
     "tableResultSettingsMap": {},
     "title": ""
    }
   },
   "outputs": [],
   "source": [
    "d = {'g': 2, 'f': 3, 'b': 4, 'e': 1, 's': 4, 't': 3}\n",
    "\n",
    "l = []\n",
    "\n",
    "for k,v in d.items():\n",
    "    l += k*v\n",
    "\n",
    "print(l)\n",
    "\n"
   ]
  },
  {
   "cell_type": "code",
   "execution_count": 0,
   "metadata": {
    "application/vnd.databricks.v1+cell": {
     "cellMetadata": {
      "byteLimit": 2048000,
      "rowLimit": 10000
     },
     "inputWidgets": {},
     "nuid": "d8fb0a41-02f8-4b08-85c0-2805e7f526c0",
     "showTitle": false,
     "tableResultSettingsMap": {},
     "title": ""
    }
   },
   "outputs": [],
   "source": [
    "\n",
    "d = { 'a': [1,2] , 'b': [2,3] , 'c': [1,3,4] }\n",
    "l=[] \n",
    "for k,v in d.items():\n",
    "    l+=v\n",
    "n=[i for i in set(l) ]\n",
    "print(n)\n",
    "revd ={}\n",
    "il =[]\n",
    "for j in n:    \n",
    "    for k in d:\n",
    "        if j in d[k]:\n",
    "            il.insert(0,k)\n",
    "    revd[j]=set(il)        \n",
    "\n",
    "print(d)\n",
    "print(revd)\n",
    "\n",
    "\n"
   ]
  },
  {
   "cell_type": "code",
   "execution_count": 0,
   "metadata": {
    "application/vnd.databricks.v1+cell": {
     "cellMetadata": {
      "byteLimit": 2048000,
      "rowLimit": 10000
     },
     "inputWidgets": {},
     "nuid": "f23c9ba6-643e-486e-bbf3-e38b6e5173c9",
     "showTitle": false,
     "tableResultSettingsMap": {},
     "title": ""
    }
   },
   "outputs": [],
   "source": [
    "input_dict = { 'a':[1,2] , 'b':[2,3] , 'c':[1,3,4] }\n",
    "output_dict = {}\n",
    "for key, values in input_dict.items():\n",
    "    for v in values:\n",
    "        output_dict.setdefault(v, []).append(key)\n",
    "        print(v,key)\n",
    "\n",
    "print(output_dict)"
   ]
  },
  {
   "cell_type": "code",
   "execution_count": 0,
   "metadata": {
    "application/vnd.databricks.v1+cell": {
     "cellMetadata": {
      "byteLimit": 2048000,
      "rowLimit": 10000
     },
     "inputWidgets": {},
     "nuid": "d549638a-d6b9-475e-a598-72e45672e77c",
     "showTitle": false,
     "tableResultSettingsMap": {},
     "title": ""
    }
   },
   "outputs": [],
   "source": [
    "list = [\"ravi\",\"krishna\",\"hi\"]\n",
    "print(list)\n",
    "d = {i:len(i)  for i in list}\n",
    "print(d)"
   ]
  },
  {
   "cell_type": "code",
   "execution_count": 0,
   "metadata": {
    "application/vnd.databricks.v1+cell": {
     "cellMetadata": {
      "byteLimit": 2048000,
      "rowLimit": 10000
     },
     "inputWidgets": {},
     "nuid": "d6957854-67d9-4fd2-8840-2c04149acf56",
     "showTitle": false,
     "tableResultSettingsMap": {},
     "title": ""
    }
   },
   "outputs": [],
   "source": [
    "l = [[1,2],[3,4],[5,6,7]]\n",
    "x = sum([sum(i) for i in l])\n",
    "print(x)"
   ]
  },
  {
   "cell_type": "code",
   "execution_count": 0,
   "metadata": {
    "application/vnd.databricks.v1+cell": {
     "cellMetadata": {
      "byteLimit": 2048000,
      "implicitDf": true,
      "rowLimit": 10000
     },
     "inputWidgets": {},
     "nuid": "e048d794-e9cc-494b-b599-aac1ad7dcc66",
     "showTitle": false,
     "tableResultSettingsMap": {},
     "title": ""
    }
   },
   "outputs": [],
   "source": [
    "%sql\n",
    "CREATE TABLE erm.raw_file (\n",
    "    line STRING\n",
    ");\n"
   ]
  },
  {
   "cell_type": "code",
   "execution_count": 0,
   "metadata": {
    "application/vnd.databricks.v1+cell": {
     "cellMetadata": {
      "byteLimit": 2048000,
      "implicitDf": true,
      "rowLimit": 10000
     },
     "inputWidgets": {},
     "nuid": "ec65acca-cd56-464e-a313-5f49e95e526a",
     "showTitle": false,
     "tableResultSettingsMap": {},
     "title": ""
    }
   },
   "outputs": [],
   "source": [
    "%sql\n",
    "truncate table erm.raw_file;\n",
    "INSERT INTO erm.raw_file (line) VALUES\n",
    "('01030010210FIRSTNAME10311ADRESS1      0402300506123456'),\n",
    "('01030020210FIRSTNAME20311ADRESS2      0402300506123457'),\n",
    "('01030030210FIRSTNAME30311ADRESS3      0402300506123458'),\n",
    "('01030050210          0311NULL         0402000506NULL');\n"
   ]
  },
  {
   "cell_type": "code",
   "execution_count": 0,
   "metadata": {
    "application/vnd.databricks.v1+cell": {
     "cellMetadata": {
      "byteLimit": 2048000,
      "implicitDf": true,
      "rowLimit": 10000
     },
     "inputWidgets": {},
     "nuid": "663d1109-9291-414a-b645-18e3b6274ee2",
     "showTitle": false,
     "tableResultSettingsMap": {},
     "title": ""
    }
   },
   "outputs": [],
   "source": [
    "%sql\n",
    "select * from erm.raw_file"
   ]
  },
  {
   "cell_type": "code",
   "execution_count": 0,
   "metadata": {
    "application/vnd.databricks.v1+cell": {
     "cellMetadata": {
      "byteLimit": 2048000,
      "implicitDf": true,
      "rowLimit": 10000
     },
     "inputWidgets": {},
     "nuid": "ec7cd0e5-e01b-4c00-b540-257172340df3",
     "showTitle": false,
     "tableResultSettingsMap": {},
     "title": ""
    }
   },
   "outputs": [],
   "source": [
    "%sql\n",
    "\n",
    "--0103001021FIRSTNAME10311ADRESS1      0402300506123456\n",
    "select \n",
    "substring(line,1, 2) as id_no,\n",
    "substring(line,3,2) as id_length,\n",
    "substring(line,5,3) as id_data,\n",
    "substring(line,8, 2) as name_no,\n",
    "substring(line,10,2) as name_length,\n",
    "substring(line,12,10) as name_data,\n",
    "substring(line,22, 2) as addr_no,\n",
    "substring(line,24,2) as addr_length,\n",
    "substring(line,26,11) as addr_data,\n",
    "substring(line,39, 2) as age_no,\n",
    "substring(line,41,2) as age_length,\n",
    "substring(line,43,2) as age_data,\n",
    "substring(line,45,2) as sal_no,\n",
    "substring(line,47,2) as sal_length,\n",
    "substring(line,49,6) as sal_data\n",
    "from erm.raw_file"
   ]
  },
  {
   "cell_type": "code",
   "execution_count": 0,
   "metadata": {
    "application/vnd.databricks.v1+cell": {
     "cellMetadata": {
      "byteLimit": 2048000,
      "implicitDf": true,
      "rowLimit": 10000
     },
     "inputWidgets": {},
     "nuid": "00348170-2093-49bd-9aa8-4afc1a46cfe3",
     "showTitle": false,
     "tableResultSettingsMap": {
      "0": {
       "dataGridStateBlob": "{\"version\":1,\"tableState\":{\"columnPinning\":{\"left\":[\"#row_number#\"],\"right\":[]},\"columnSizing\":{},\"columnVisibility\":{}},\"settings\":{\"columns\":{}},\"syncTimestamp\":1755505384053}",
       "filterBlob": null,
       "queryPlanFiltersBlob": null,
       "tableResultIndex": 0
      }
     },
     "title": ""
    }
   },
   "outputs": [],
   "source": [
    "%sql\n",
    "\n",
    "--0103001021FIRSTNAME10311ADRESS1      0402300506123456\n",
    "with base as (\n",
    "select \n",
    "substring(line,1, 2) as id_no,substring(line,3,2) as id_length,\n",
    "substring(line,8, 2) as name_no,substring(line,10,2) as name_length,\n",
    "substring(line,22, 2) as addr_no,substring(line,24,2) as addr_length,\n",
    "substring(line,39, 2) as age_no,substring(line,41,2) as age_length,\n",
    "substring(line,45,2) as sal_no,substring(line,47,2) as sal_length\n",
    "from erm.raw_file\n",
    ")\n",
    "select distinct \n",
    "substring(line,1+length(id_no)+length(id_length), b.id_length) as id_data,\n",
    "substring(line,8+length(name_no)+length(name_length), b.name_length) as id_data,\n",
    "substring(line,22+length(addr_no)+length(addr_length), b.addr_length) as addr_data,\n",
    "substring(line,39+length(age_no)+length(age_length), b.age_length) as age_data,\n",
    "substring(line,45+length(sal_no)+length(sal_length), b.sal_length) as sal_length\n",
    "\n",
    "from erm.raw_file \n",
    "join base b on substring(line,1, 2)=id_no"
   ]
  },
  {
   "cell_type": "code",
   "execution_count": 0,
   "metadata": {
    "application/vnd.databricks.v1+cell": {
     "cellMetadata": {
      "byteLimit": 2048000,
      "implicitDf": true,
      "rowLimit": 10000
     },
     "inputWidgets": {},
     "nuid": "2f91f006-6796-4aac-929b-2c471eaece2c",
     "showTitle": false,
     "tableResultSettingsMap": {},
     "title": ""
    }
   },
   "outputs": [],
   "source": [
    "%sql\n",
    "SELECT\n",
    "    -- ID is after '010300' → take chars 5–7\n",
    "    length(line) as len,\n",
    "    SUBSTRING(line FROM 5 FOR 3) AS ID,\n",
    "\n",
    "    -- Extract NAME (pattern: FIRSTNAME + number)\n",
    "    REGEXP_SUBSTR(line, 'FIRSTNAME[0-9]+') AS NAME,\n",
    "\n",
    "    -- Extract ADDRESS (pattern: ADRESS + number)\n",
    "    REGEXP_SUBSTR(line, 'ADRESS[0-9]+') AS ADDRESS,\n",
    "\n",
    "    -- AGE = last 12–11th chars\n",
    "    SUBSTRING(line FROM LENGTH(line)-11 FOR 2) AS AGE,\n",
    "\n",
    "    -- SAL = last 6 chars\n",
    "    SUBSTRING(line FROM LENGTH(line)-5 FOR 6) AS SAL\n",
    "\n",
    "FROM erm.raw_file;"
   ]
  }
 ],
 "metadata": {
  "application/vnd.databricks.v1+notebook": {
   "computePreferences": null,
   "dashboards": [],
   "environmentMetadata": {
    "base_environment": "",
    "environment_version": "2"
   },
   "inputWidgetPreferences": null,
   "language": "python",
   "notebookMetadata": {
    "mostRecentlyExecutedCommandWithImplicitDF": {
     "commandId": 7125979384660475,
     "dataframes": [
      "_sqldf"
     ]
    },
    "pythonIndentUnit": 4
   },
   "notebookName": "Tough",
   "widgets": {}
  },
  "language_info": {
   "name": "python"
  }
 },
 "nbformat": 4,
 "nbformat_minor": 0
}
