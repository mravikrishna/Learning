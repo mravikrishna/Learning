{
 "cells": [
  {
   "cell_type": "code",
   "execution_count": 0,
   "metadata": {
    "application/vnd.databricks.v1+cell": {
     "cellMetadata": {
      "byteLimit": 2048000,
      "rowLimit": 10000
     },
     "inputWidgets": {},
     "nuid": "c8a22075-6be3-4cb9-a2c3-1a734448bf9c",
     "showTitle": false,
     "tableResultSettingsMap": {},
     "title": ""
    }
   },
   "outputs": [],
   "source": [
    "from pyspark.sql.functions import *\n",
    "\n",
    "line = [ \n",
    "\"id,name,add|age|sal\",\n",
    "\"1,a,'abc|one'|40|50\",\n",
    "\"1,a,'abc|two'|60|70\"]\n",
    "\n",
    "df = spark.createDataFrame(line,\"string\")\n",
    "df.show(truncate =False)\n",
    "df1 = df.withColumn(\"cols\",split(df.value,\"[,|]\")).drop(\"value\")\n",
    "df1 =df1.withColumn(\"id\",df1['cols'][0]).\\\n",
    "    withColumn(\"name\",df1['cols'][1]).\\\n",
    "        withColumn(\"splitadd\",df1['cols'][2]).\\\n",
    "        withColumn(\"rest\",split(\"splitadd\",\"[|]\"))\n",
    "\n",
    "\n",
    "#df2 = df1.withColumn(\"add\", df1['rest'].getItem(0)).withColumn(\"add1\", df1['rest'].getItem(1)).withColumn(\"age\", df1['rest'].getItem(2)).withColumn(\"sal\", size(df1['rest']))\n",
    "        \n",
    "\n",
    "df1.show(truncate = False)"
   ]
  },
  {
   "cell_type": "code",
   "execution_count": 0,
   "metadata": {
    "application/vnd.databricks.v1+cell": {
     "cellMetadata": {},
     "inputWidgets": {},
     "nuid": "127a4199-fd36-4921-ae90-29c859c41738",
     "showTitle": false,
     "tableResultSettingsMap": {},
     "title": ""
    }
   },
   "outputs": [],
   "source": []
  }
 ],
 "metadata": {
  "application/vnd.databricks.v1+notebook": {
   "computePreferences": null,
   "dashboards": [],
   "environmentMetadata": {
    "base_environment": "",
    "environment_version": "2"
   },
   "inputWidgetPreferences": null,
   "language": "python",
   "notebookMetadata": {
    "pythonIndentUnit": 4
   },
   "notebookName": "Multi Delimiter",
   "widgets": {}
  },
  "language_info": {
   "name": "python"
  }
 },
 "nbformat": 4,
 "nbformat_minor": 0
}
