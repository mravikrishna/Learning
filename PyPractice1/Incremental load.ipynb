{
 "cells": [
  {
   "cell_type": "code",
   "execution_count": 0,
   "metadata": {
    "application/vnd.databricks.v1+cell": {
     "cellMetadata": {
      "byteLimit": 2048000,
      "rowLimit": 10000
     },
     "inputWidgets": {},
     "nuid": "3c1e2c02-f38d-4868-bb99-b976638f80db",
     "showTitle": false,
     "tableResultSettingsMap": {},
     "title": ""
    }
   },
   "outputs": [],
   "source": [
    "from pyspark.sql import SparkSession\n",
    "from pyspark.sql.functions import col, coalesce\n",
    "\n",
    "# Base table (customer)\n",
    "base_data = [\n",
    "    (\"001\", \"TESTNAME11\", \"KVAL1\", 34, \"9112345\"),\n",
    "    (\"002\", \"TESTNAME12\", \"KVAL2\", 35, \"8112345\"),\n",
    "    (\"003\", \"TESTNAME13\", \"KVAL3\", 36, \"+009112345\"),\n",
    "    (\"004\", \"TESTNAME14\", \"KVAL4\", 37, \"+009112346\"),\n",
    "    (\"005\", \"TESTNAME15\", \"KVAL5\", 38, \"+009112347\"),\n",
    "]\n",
    "base_cols = [\"ID\", \"NAME\", \"KEYVAL\", \"AGE\", \"PHONE\"]\n",
    "df_base = spark.createDataFrame(base_data, base_cols)\n",
    "\n",
    "# Change file (input.txt)\n",
    "change_data = [\n",
    "    (\"001\", \"TESTNAME011\", None, None, None),\n",
    "    (\"002\", None, \"KVAL22\", None, None),\n",
    "    (\"006\", \"TESTNAME16\", \"KVAL6\", 36, \"+009112348\"),\n",
    "]\n",
    "df_change = spark.createDataFrame(change_data, base_cols)\n",
    "\n",
    "print(\"Base Table:\")\n",
    "df_base.show()\n",
    "df_base.createOrReplaceTempView(\"base\")\n",
    "\n",
    "print(\"Change File:\")\n",
    "df_change.show()\n",
    "df_change.createOrReplaceTempView(\"change\")\n",
    "\n",
    "# ✅ Perform full outer join on ID\n"
   ]
  },
  {
   "cell_type": "code",
   "execution_count": 0,
   "metadata": {
    "application/vnd.databricks.v1+cell": {
     "cellMetadata": {
      "byteLimit": 2048000,
      "rowLimit": 10000
     },
     "inputWidgets": {},
     "nuid": "85a2ab2d-27a7-4aed-ab08-9a420111812c",
     "showTitle": false,
     "tableResultSettingsMap": {},
     "title": ""
    }
   },
   "outputs": [],
   "source": [
    "merged_df = df_base.alias('b').join(df_change.alias('c'),\"id\",\"full\")\n",
    "merged_df.select(\"id\", coalesce(col(\"c.name\"),col(\"b.name\")).alias('name'), \n",
    "                 coalesce (col(\"c.keyval\"),col(\"b.keyval\")).alias(\"keyval\"),\n",
    "                 coalesce(col(\"c.age\"),col(\"b.age\")).alias(\"age\"),\n",
    "                 coalesce(col(\"c.phone\"),col(\"b.phone\"))).show()"
   ]
  },
  {
   "cell_type": "code",
   "execution_count": 0,
   "metadata": {
    "application/vnd.databricks.v1+cell": {
     "cellMetadata": {},
     "inputWidgets": {},
     "nuid": "5781455e-2683-48be-a9a6-9815f051e702",
     "showTitle": false,
     "tableResultSettingsMap": {},
     "title": ""
    }
   },
   "outputs": [],
   "source": [
    "\n",
    "merged = df_base.alias(\"b\").join(df_change.alias(\"c\"), on=\"ID\", how=\"outer\")\n",
    "\n",
    "\n",
    "# ✅ Coalesce (prefer change file if not null, else base value)\n",
    "df_final = merged.select(\n",
    "    col(\"ID\"),\n",
    "    coalesce(col(\"c.NAME\"), col(\"b.NAME\")).alias(\"NAME\"),\n",
    "    coalesce(col(\"c.KEYVAL\"), col(\"b.KEYVAL\")).alias(\"KEYVAL\"),\n",
    "    coalesce(col(\"c.AGE\"), col(\"b.AGE\")).alias(\"AGE\"),\n",
    "    coalesce(col(\"c.PHONE\"), col(\"b.PHONE\")).alias(\"PHONE\")\n",
    ")\n",
    "\n",
    "print(\"Final Updated Table:\")\n",
    "df_final.show()"
   ]
  }
 ],
 "metadata": {
  "application/vnd.databricks.v1+notebook": {
   "computePreferences": null,
   "dashboards": [],
   "environmentMetadata": {
    "base_environment": "",
    "environment_version": "2"
   },
   "inputWidgetPreferences": null,
   "language": "python",
   "notebookMetadata": {
    "mostRecentlyExecutedCommandWithImplicitDF": {
     "commandId": 6353816832244194,
     "dataframes": [
      "_sqldf"
     ]
    },
    "pythonIndentUnit": 4
   },
   "notebookName": "Incremental load",
   "widgets": {}
  },
  "language_info": {
   "name": "python"
  }
 },
 "nbformat": 4,
 "nbformat_minor": 0
}
