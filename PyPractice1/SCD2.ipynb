{
 "cells": [
  {
   "cell_type": "code",
   "execution_count": 0,
   "metadata": {
    "application/vnd.databricks.v1+cell": {
     "cellMetadata": {
      "byteLimit": 2048000,
      "rowLimit": 10000
     },
     "inputWidgets": {},
     "nuid": "75147d9d-6779-4bb8-a2f9-3a6bb18c0a9c",
     "showTitle": false,
     "tableResultSettingsMap": {},
     "title": ""
    }
   },
   "outputs": [],
   "source": [
    "from pyspark.sql import SparkSession\n",
    "from pyspark.sql.functions import col, lit, when\n",
    "from pyspark.sql.window import Window\n",
    "\n",
    "spark = SparkSession.builder.appName(\"SCD2-Incremental\").getOrCreate()\n",
    "\n",
    "# Existing SCD2 Table\n",
    "existing_data = [\n",
    "    (\"07\",\"G\",\"Pune\",\"2025-07-01\", False),\n",
    "    (\"07\",\"G\",\"Mumbai\",\"2025-07-15\", True),   # currently active\n",
    "]\n",
    "columns = [\"ID\",\"NAME\",\"ADDR\",\"DATE\",\"Active\"]\n",
    "df_existing = spark.createDataFrame(existing_data, columns)\n",
    "\n",
    "print(\"Current SCD2 Table:\")\n",
    "df_existing.show()\n",
    "\n",
    "# New incoming data\n",
    "new_data = [(\"07\",\"G\",\"Goa\",\"2025-07-25\"),(\"08\",\"H\",\"Pune\",\"2025-08-25\")]\n",
    "columns_new = [\"ID\",\"NAME\",\"ADDR\",\"DATE\"]\n",
    "df_new = spark.createDataFrame(new_data, columns_new)\n",
    "\n",
    "print(\"New Data:\")\n",
    "df_new.show()\n"
   ]
  },
  {
   "cell_type": "code",
   "execution_count": 0,
   "metadata": {
    "application/vnd.databricks.v1+cell": {
     "cellMetadata": {
      "byteLimit": 2048000,
      "rowLimit": 10000
     },
     "inputWidgets": {},
     "nuid": "aab12ba3-dcb1-4c95-aeb2-2613a862d46d",
     "showTitle": false,
     "tableResultSettingsMap": {},
     "title": ""
    }
   },
   "outputs": [],
   "source": [
    "# Step 1: Get only ACTIVE records from existing\n",
    "df_active = df_existing.filter(col(\"Active\") == True)\n",
    "df_active.show()\n",
    "\n",
    "# Step 2: Join new data with active records\n",
    "df_joined = df_new.alias(\"n\").join(\n",
    "    df_active.alias(\"e\"), on=\"ID\", how=\"left\"\n",
    ")\n",
    "df_joined.show()\n",
    "\n",
    "# Step 3: Compare if change is needed\n",
    "df_changes = df_joined.filter(\n",
    "    (col(\"e.ID\").isNull()) |                # New ID\n",
    "    ( (col(\"n.NAME\") != col(\"e.NAME\")) | \n",
    "      (col(\"n.ADDR\") != col(\"e.ADDR\")) |\n",
    "      (col(\"n.DATE\") != col(\"e.DATE\")) )   # Changed data\n",
    ")\n",
    "df_changes.show()"
   ]
  },
  {
   "cell_type": "code",
   "execution_count": 0,
   "metadata": {
    "application/vnd.databricks.v1+cell": {
     "cellMetadata": {
      "byteLimit": 2048000,
      "rowLimit": 10000
     },
     "inputWidgets": {},
     "nuid": "957f8606-aaa4-4b08-bc3f-d8cb7401a171",
     "showTitle": false,
     "tableResultSettingsMap": {},
     "title": ""
    }
   },
   "outputs": [],
   "source": [
    "\n",
    "# Step 4: If changed, expire old and insert new\n",
    "updates = []\n",
    "for row in df_changes.collect():\n",
    "    id_, name, addr, date = row[\"ID\"], row[\"NAME\"], row[\"ADDR\"], row[\"DATE\"]\n",
    "    \n",
    "    # expire old record if exists\n",
    "    df_existing = df_existing.withColumn(\n",
    "        \"Active\",\n",
    "        when((col(\"ID\")==id_) & (col(\"Active\")==True), lit(False)).otherwise(col(\"Active\"))\n",
    "    )\n",
    "    \n",
    "    # insert new record\n",
    "    updates.append((id_, name, addr, date, True))\n",
    "\n",
    "if updates:\n",
    "    df_updates = spark.createDataFrame(updates, df_existing.columns)\n",
    "    df_final = df_existing.union(df_updates)\n",
    "else:\n",
    "    df_final = df_existing\n",
    "\n",
    "print(\"Updated SCD2 Table:\")\n",
    "df_final.orderBy(\"ID\",\"DATE\").show()"
   ]
  }
 ],
 "metadata": {
  "application/vnd.databricks.v1+notebook": {
   "computePreferences": null,
   "dashboards": [],
   "environmentMetadata": {
    "base_environment": "",
    "environment_version": "2"
   },
   "inputWidgetPreferences": null,
   "language": "python",
   "notebookMetadata": {
    "pythonIndentUnit": 4
   },
   "notebookName": "SCD2",
   "widgets": {}
  },
  "language_info": {
   "name": "python"
  }
 },
 "nbformat": 4,
 "nbformat_minor": 0
}
