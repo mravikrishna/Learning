{
 "cells": [
  {
   "cell_type": "code",
   "execution_count": 0,
   "metadata": {
    "application/vnd.databricks.v1+cell": {
     "cellMetadata": {
      "byteLimit": 2048000,
      "implicitDf": true,
      "rowLimit": 10000
     },
     "inputWidgets": {},
     "nuid": "2e85c83e-a111-4e0b-aafd-dd44896bbd50",
     "showTitle": false,
     "tableResultSettingsMap": {},
     "title": ""
    }
   },
   "outputs": [],
   "source": [
    "%sql\n",
    "create database azure;\n",
    "use azure;\n",
    "CREATE TABLE products (\n",
    "    product_id INT PRIMARY KEY,\n",
    "    product_name VARCHAR(100),\n",
    "    category VARCHAR(50),\n",
    "    price DECIMAL(10,2)\n",
    ");\n",
    "\n",
    "INSERT INTO products VALUES \n",
    "(1, 'Wireless Mouse', 'Electronics', 799.99),\n",
    "(2, 'Bluetooth Speaker', 'Electronics', 1299.49),\n",
    "(3, 'Yoga Mat', 'Fitness', 499.00),\n",
    "(4, 'Laptop Stand', 'Accessories', 999.99),\n",
    "(5, 'Notebook Set', 'Stationery', 149.00),\n",
    "(6, 'Water Bottle', 'Fitness', 299.00),\n",
    "(7, 'Smartwatch', 'Electronics', 4999.00),\n",
    "(8, 'Desk Organizer', 'Accessories', 399.00),\n",
    "(9, 'Dumbbell Set', 'Fitness', 1999.00),\n",
    "(10, 'Pen Drive 32GB', 'Electronics', 599.00);\n"
   ]
  },
  {
   "cell_type": "code",
   "execution_count": 0,
   "metadata": {
    "application/vnd.databricks.v1+cell": {
     "cellMetadata": {
      "byteLimit": 2048000,
      "implicitDf": true,
      "rowLimit": 10000
     },
     "inputWidgets": {},
     "nuid": "42e396d6-18d5-4820-bcb7-917de5a2a0a4",
     "showTitle": false,
     "tableResultSettingsMap": {},
     "title": ""
    }
   },
   "outputs": [],
   "source": [
    "%sql\n",
    "\n",
    "-- Stores Table\n",
    "CREATE TABLE stores (\n",
    "    store_id INT PRIMARY KEY,\n",
    "    store_name VARCHAR(100),\n",
    "    location VARCHAR(100)\n",
    ");\n",
    "\n",
    "INSERT INTO stores VALUES \n",
    "(1, 'City Mall Store', 'Mumbai'),\n",
    "(2, 'High Street Store', 'Delhi'),\n",
    "(3, 'Tech World Outlet', 'Bangalore'),\n",
    "(4, 'Downtown Mini Store', 'Pune'),\n",
    "(5, 'Mega Plaza', 'Chennai');\n",
    "\n"
   ]
  },
  {
   "cell_type": "code",
   "execution_count": 0,
   "metadata": {
    "application/vnd.databricks.v1+cell": {
     "cellMetadata": {
      "byteLimit": 2048000,
      "implicitDf": true,
      "rowLimit": 10000
     },
     "inputWidgets": {},
     "nuid": "266f6a34-d98f-43fd-9ee8-2b335d4114cb",
     "showTitle": false,
     "tableResultSettingsMap": {},
     "title": ""
    }
   },
   "outputs": [],
   "source": [
    "%sql\n",
    "\n",
    "-- Transactions Table\n",
    "CREATE TABLE transactions (\n",
    "    transaction_id INT PRIMARY KEY,\n",
    "    customer_id INT,\n",
    "    product_id INT,\n",
    "    store_id INT,\n",
    "    quantity INT,\n",
    "    transaction_date DATE,\n",
    "    FOREIGN KEY (product_id) REFERENCES products(product_id),\n",
    "    FOREIGN KEY (store_id) REFERENCES stores(store_id)\n",
    ");\n",
    "\n",
    "\n",
    "INSERT INTO transactions VALUES (1, 127, 8, 4, 4, '2025-03-31');\n",
    "INSERT INTO transactions VALUES (2, 105, 3, 4, 5, '2024-11-12');\n",
    "INSERT INTO transactions VALUES (3, 116, 2, 2, 3, '2025-05-01');\n",
    "INSERT INTO transactions VALUES (4, 120, 8, 1, 1, '2024-11-02');\n",
    "INSERT INTO transactions VALUES (5, 105, 5, 2, 1, '2025-03-17');\n",
    "INSERT INTO transactions VALUES (6, 110, 7, 3, 5, '2025-01-04');\n",
    "INSERT INTO transactions VALUES (7, 110, 7, 2, 5, '2025-01-01');\n",
    "INSERT INTO transactions VALUES (8, 126, 7, 5, 2, '2025-06-08');\n",
    "INSERT INTO transactions VALUES (9, 123, 1, 3, 2, '2024-10-08');\n",
    "INSERT INTO transactions VALUES (10, 124, 2, 2, 5, '2024-08-27');\n",
    "INSERT INTO transactions VALUES (11, 102, 1, 3, 2, '2024-08-11');\n",
    "INSERT INTO transactions VALUES (12, 108, 5, 1, 4, '2025-05-26');\n",
    "INSERT INTO transactions VALUES (13, 104, 3, 3, 4, '2025-05-04');\n",
    "INSERT INTO transactions VALUES (14, 120, 1, 4, 5, '2024-07-17');\n",
    "INSERT INTO transactions VALUES (15, 121, 6, 5, 5, '2025-05-19');\n",
    "INSERT INTO transactions VALUES (16, 118, 6, 2, 4, '2024-11-29');\n",
    "INSERT INTO transactions VALUES (17, 109, 8, 5, 5, '2024-07-10');\n",
    "INSERT INTO transactions VALUES (18, 103, 1, 4, 3, '2024-09-05');\n",
    "INSERT INTO transactions VALUES (19, 116, 8, 4, 4, '2024-07-14');\n",
    "INSERT INTO transactions VALUES (20, 130, 5, 1, 2, '2024-07-30');\n",
    "INSERT INTO transactions VALUES (21, 105, 1, 3, 5, '2024-10-02');\n",
    "INSERT INTO transactions VALUES (22, 107, 9, 3, 4, '2024-11-16');\n",
    "INSERT INTO transactions VALUES (23, 122, 9, 4, 2, '2025-04-30');\n",
    "INSERT INTO transactions VALUES (24, 125, 1, 5, 1, '2024-07-14');\n",
    "INSERT INTO transactions VALUES (25, 116, 8, 4, 5, '2024-12-13');\n",
    "INSERT INTO transactions VALUES (26, 126, 6, 2, 2, '2024-09-21');\n",
    "INSERT INTO transactions VALUES (27, 127, 8, 1, 1, '2024-10-10');\n",
    "INSERT INTO transactions VALUES (28, 101, 7, 5, 3, '2024-11-15');\n",
    "INSERT INTO transactions VALUES (29, 119, 9, 4, 2, '2025-06-03');\n",
    "INSERT INTO transactions VALUES (30, 116, 8, 4, 5, '2025-03-16');"
   ]
  },
  {
   "cell_type": "code",
   "execution_count": 0,
   "metadata": {
    "application/vnd.databricks.v1+cell": {
     "cellMetadata": {
      "byteLimit": 2048000,
      "rowLimit": 10000
     },
     "inputWidgets": {},
     "nuid": "2d631095-afe3-435c-a314-0f248d6cd629",
     "showTitle": false,
     "tableResultSettingsMap": {},
     "title": ""
    }
   },
   "outputs": [],
   "source": [
    "transactions_df = spark.read.table(\"azure.transactions\")\n",
    "stores_df = spark.read.table(\"azure.stores\")\n",
    "stores_df = spark.read.table(\"azure.products\")"
   ]
  },
  {
   "cell_type": "code",
   "execution_count": 0,
   "metadata": {
    "application/vnd.databricks.v1+cell": {
     "cellMetadata": {},
     "inputWidgets": {},
     "nuid": "78c9b79d-4e61-4a79-a719-514cc89fdbc9",
     "showTitle": false,
     "tableResultSettingsMap": {},
     "title": ""
    }
   },
   "outputs": [],
   "source": []
  }
 ],
 "metadata": {
  "application/vnd.databricks.v1+notebook": {
   "computePreferences": null,
   "dashboards": [],
   "environmentMetadata": {
    "base_environment": "",
    "environment_version": "2"
   },
   "inputWidgetPreferences": null,
   "language": "python",
   "notebookMetadata": {
    "mostRecentlyExecutedCommandWithImplicitDF": {
     "commandId": 6481425143289132,
     "dataframes": [
      "_sqldf"
     ]
    },
    "pythonIndentUnit": 4
   },
   "notebookName": "Data Movement",
   "widgets": {}
  },
  "language_info": {
   "name": "python"
  }
 },
 "nbformat": 4,
 "nbformat_minor": 0
}
