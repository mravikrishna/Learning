{
 "cells": [
  {
   "cell_type": "code",
   "execution_count": 0,
   "metadata": {
    "application/vnd.databricks.v1+cell": {
     "cellMetadata": {
      "byteLimit": 2048000,
      "implicitDf": true,
      "rowLimit": 10000
     },
     "inputWidgets": {},
     "nuid": "c205529d-fba4-44fc-9b0c-e96a6db9d551",
     "showTitle": false,
     "tableResultSettingsMap": {},
     "title": ""
    }
   },
   "outputs": [],
   "source": [
    "%sql \n",
    "\n",
    "DROP TABLE IF EXISTS postg.purchases;\n",
    "CREATE TABLE postg.purchases \n",
    "(\n",
    "    purchase_id \tINT,\n",
    "    customer_id \tINT,\n",
    "    purchase_date \tDATE,\n",
    "    return_date\t\tDATE\n",
    ");\n",
    "\n",
    "INSERT INTO postg.purchases VALUES\n",
    "(1, 101, '2025-04-30', '2025-05-01'),\n",
    "(2, 102, '2025-04-29', '2025-04-29'),\n",
    "(3, 101, '2025-04-30', NULL),\n",
    "(4, 101, '2025-04-05', NULL),\n",
    "(5, 103, '2025-04-17', NULL),\n",
    "(6, 102, '2025-04-29', NULL),\n",
    "(7, 102, '2025-05-09', NULL),\n",
    "(8, 103, '2025-05-01', '2025-05-10');"
   ]
  },
  {
   "cell_type": "code",
   "execution_count": 0,
   "metadata": {
    "application/vnd.databricks.v1+cell": {
     "cellMetadata": {
      "byteLimit": 2048000,
      "implicitDf": true,
      "rowLimit": 10000
     },
     "inputWidgets": {},
     "nuid": "90b4fef4-e68f-4353-b7e8-71caa6fccaa2",
     "showTitle": false,
     "tableResultSettingsMap": {},
     "title": ""
    }
   },
   "outputs": [],
   "source": [
    "%sql\n",
    "INSERT INTO postg.purchases VALUES\n",
    "(9, 101, '2025-07-30', '2025-05-01'),\n",
    "(10, 102, '2025-07-29', '2025-04-29'),\n",
    "(11, 101, '2025-07-30', NULL),\n",
    "(12, 101, '2025-08-05', NULL),\n",
    "(13, 103, '2025-08-17', NULL),\n",
    "(14, 102, '2025-06-29', NULL),\n",
    "(15, 102, '2025-07-09', NULL),\n",
    "(16, 103, '2025-07-01', '2025-05-10');"
   ]
  },
  {
   "cell_type": "code",
   "execution_count": 0,
   "metadata": {
    "application/vnd.databricks.v1+cell": {
     "cellMetadata": {
      "byteLimit": 2048000,
      "implicitDf": true,
      "rowLimit": 10000
     },
     "inputWidgets": {},
     "nuid": "53b65789-f30f-43a1-8d16-ae94be9896d4",
     "showTitle": false,
     "tableResultSettingsMap": {},
     "title": ""
    }
   },
   "outputs": [],
   "source": [
    "%sql \n",
    "\n",
    "select * from postg.purchases where purchase_date between '2025-07-01' and '2025-07-30'\n",
    "and (return_date is null or return_date > purchase_date + interval 1 week) \n"
   ]
  },
  {
   "cell_type": "code",
   "execution_count": 0,
   "metadata": {
    "application/vnd.databricks.v1+cell": {
     "cellMetadata": {
      "byteLimit": 2048000,
      "implicitDf": true,
      "rowLimit": 10000
     },
     "inputWidgets": {},
     "nuid": "aaa8775d-b398-45e8-a739-c6016281acd0",
     "showTitle": false,
     "tableResultSettingsMap": {},
     "title": ""
    }
   },
   "outputs": [],
   "source": [
    "from pyspark.sql.functions import add_months, col , current_date\n",
    "\n",
    "pdf =spark.read.table(\"postg.purchases\")\n",
    "pdf.filter(col('purchase_date').cast('date') > add_months(current_date(), -1)).show()\n"
   ]
  }
 ],
 "metadata": {
  "application/vnd.databricks.v1+notebook": {
   "computePreferences": null,
   "dashboards": [],
   "environmentMetadata": {
    "base_environment": "",
    "environment_version": "2"
   },
   "inputWidgetPreferences": null,
   "language": "python",
   "notebookMetadata": {
    "mostRecentlyExecutedCommandWithImplicitDF": {
     "commandId": 7148887268072514,
     "dataframes": [
      "_sqldf"
     ]
    },
    "pythonIndentUnit": 4
   },
   "notebookName": "Successful Purchases",
   "widgets": {}
  },
  "language_info": {
   "name": "python"
  }
 },
 "nbformat": 4,
 "nbformat_minor": 0
}
