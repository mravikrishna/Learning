{
 "cells": [
  {
   "cell_type": "code",
   "execution_count": 0,
   "metadata": {
    "application/vnd.databricks.v1+cell": {
     "cellMetadata": {
      "byteLimit": 2048000,
      "implicitDf": true,
      "rowLimit": 10000
     },
     "inputWidgets": {},
     "nuid": "6d9f7a96-e4db-44a1-95f0-5ce71d818608",
     "showTitle": false,
     "tableResultSettingsMap": {},
     "title": ""
    }
   },
   "outputs": [],
   "source": [
    "%sql\n",
    "show tables in postg"
   ]
  },
  {
   "cell_type": "code",
   "execution_count": 0,
   "metadata": {
    "application/vnd.databricks.v1+cell": {
     "cellMetadata": {
      "byteLimit": 2048000,
      "implicitDf": true,
      "rowLimit": 10000
     },
     "inputWidgets": {},
     "nuid": "a6e1ce01-4c39-40df-8fe2-869b11b6bdfb",
     "showTitle": false,
     "tableResultSettingsMap": {},
     "title": ""
    }
   },
   "outputs": [],
   "source": [
    "%sql\n",
    "\n",
    "DROP TABLE IF EXISTS tau.customers;\n",
    "CREATE TABLE tau.customers \n",
    "(\n",
    "    id     INT,\n",
    "    name   VARCHAR(50)\n",
    ");\n",
    "INSERT INTO tau.customers VALUES\n",
    "(101, 'David'),\n",
    "(102, 'Robin'),\n",
    "(103, 'Carol'),\n",
    "(104, 'Ali');\n",
    "\n",
    "DROP TABLE IF EXISTS tau.orders;\n",
    "CREATE TABLE tau.orders \n",
    "(\n",
    "    id              INT,\n",
    "    customer_id     INT,\n",
    "    total_cost      DECIMAL,\n",
    "    order_date      DATE\n",
    ");\n",
    "INSERT INTO tau.orders VALUES\n",
    "(1, 101, 100, '2025-04-15'),\n",
    "(2, 102, 40, '2025-04-20'),\n",
    "(3, 101, 80, '2025-03-12'),\n",
    "(4, 101, 120, '2025-03-12'),\n",
    "(5, 103, 60, '2025-04-20'),\n",
    "(6, 103, 50, '2025-04-20');"
   ]
  },
  {
   "cell_type": "code",
   "execution_count": 0,
   "metadata": {
    "application/vnd.databricks.v1+cell": {
     "cellMetadata": {
      "byteLimit": 2048000,
      "implicitDf": true,
      "rowLimit": 10000
     },
     "inputWidgets": {},
     "nuid": "4272c642-b3aa-4f9f-a2aa-b45a6633cbf1",
     "showTitle": false,
     "tableResultSettingsMap": {},
     "title": ""
    }
   },
   "outputs": [],
   "source": [
    "%sql\n",
    "SELECT * FROM tau.customers;"
   ]
  },
  {
   "cell_type": "code",
   "execution_count": 0,
   "metadata": {
    "application/vnd.databricks.v1+cell": {
     "cellMetadata": {
      "byteLimit": 2048000,
      "implicitDf": true,
      "rowLimit": 10000
     },
     "inputWidgets": {},
     "nuid": "caf806f4-cb7c-4ff5-842f-e9a505686273",
     "showTitle": false,
     "tableResultSettingsMap": {},
     "title": ""
    }
   },
   "outputs": [],
   "source": [
    "%sql\n",
    "SELECT * FROM tau.orders;"
   ]
  },
  {
   "cell_type": "code",
   "execution_count": 0,
   "metadata": {
    "application/vnd.databricks.v1+cell": {
     "cellMetadata": {
      "byteLimit": 2048000,
      "implicitDf": true,
      "rowLimit": 10000
     },
     "inputWidgets": {},
     "nuid": "a983f44a-72e7-4619-b99d-43daff434c0a",
     "showTitle": false,
     "tableResultSettingsMap": {},
     "title": ""
    }
   },
   "outputs": [],
   "source": [
    "%sql\n",
    "\n",
    "select name, coalesce(order_date,to_date('9999-01-01','yyyy-MM-dd')) as order_date , coalesce(sum(total_cost),0) as total \n",
    "from (\n",
    "select name, order_date, total_cost, dense_rank() over(partition by name order by order_date desc ) as rnk \n",
    "from tau.customers  c\n",
    "left join tau.orders o on c.id = o.customer_id \n",
    ")x where rnk =1\n",
    "group by name, order_date\n",
    "order by order_date"
   ]
  }
 ],
 "metadata": {
  "application/vnd.databricks.v1+notebook": {
   "computePreferences": null,
   "dashboards": [],
   "environmentMetadata": {
    "base_environment": "",
    "environment_version": "2"
   },
   "inputWidgetPreferences": null,
   "language": "python",
   "notebookMetadata": {
    "mostRecentlyExecutedCommandWithImplicitDF": {
     "commandId": 7148887268072519,
     "dataframes": [
      "_sqldf"
     ]
    },
    "pythonIndentUnit": 4
   },
   "notebookName": "Latest Order Summary",
   "widgets": {}
  },
  "language_info": {
   "name": "python"
  }
 },
 "nbformat": 4,
 "nbformat_minor": 0
}
