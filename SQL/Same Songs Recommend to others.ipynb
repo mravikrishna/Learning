{
 "cells": [
  {
   "cell_type": "code",
   "execution_count": 0,
   "metadata": {
    "application/vnd.databricks.v1+cell": {
     "cellMetadata": {
      "byteLimit": 2048000,
      "implicitDf": true,
      "rowLimit": 10000
     },
     "inputWidgets": {},
     "nuid": "a6312305-eb12-4043-aec1-03b56316deae",
     "showTitle": false,
     "tableResultSettingsMap": {},
     "title": ""
    }
   },
   "outputs": [],
   "source": [
    "%sql\n",
    "use postg;\n",
    "\n",
    "drop table if exists listens;\n",
    "create table listens\n",
    "(\n",
    "\tuser_id \tint,\n",
    "\tsong_id\t\tint,\n",
    "\tday\t\t\tdate\n",
    ");\n",
    "drop table if exists friendship;\n",
    "create table friendship\n",
    "(\n",
    "\tuser1_id \tint,\n",
    "\tuser2_id\tint\n",
    ");\n",
    "\n",
    "insert into listens values(1,10,to_date('2021-03-15','yyyy-mm-dd'));\n",
    "insert into listens values(1,11,to_date('2021-03-15','yyyy-mm-dd'));\n",
    "insert into listens values(1,12,to_date('2021-03-15','yyyy-mm-dd'));\n",
    "insert into listens values(2,10,to_date('2021-03-15','yyyy-mm-dd'));\n",
    "insert into listens values(2,11,to_date('2021-03-15','yyyy-mm-dd'));\n",
    "insert into listens values(2,12,to_date('2021-03-15','yyyy-mm-dd'));\n",
    "insert into listens values(3,10,to_date('2021-03-15','yyyy-mm-dd'));\n",
    "insert into listens values(3,11,to_date('2021-03-15','yyyy-mm-dd'));\n",
    "insert into listens values(3,12,to_date('2021-03-15','yyyy-mm-dd'));\n",
    "insert into listens values(4,10,to_date('2021-03-15','yyyy-mm-dd'));\n",
    "insert into listens values(4,11,to_date('2021-03-15','yyyy-mm-dd'));\n",
    "insert into listens values(4,13,to_date('2021-03-15','yyyy-mm-dd'));\n",
    "insert into listens values(5,10,to_date('2021-03-16','yyyy-mm-dd'));\n",
    "insert into listens values(5,11,to_date('2021-03-16','yyyy-mm-dd'));\n",
    "insert into listens values(5,12,to_date('2021-03-16','yyyy-mm-dd'));\n",
    "\n",
    "insert into friendship values(1,2);"
   ]
  },
  {
   "cell_type": "code",
   "execution_count": 0,
   "metadata": {
    "application/vnd.databricks.v1+cell": {
     "cellMetadata": {
      "byteLimit": 2048000,
      "implicitDf": true,
      "rowLimit": 10000
     },
     "inputWidgets": {},
     "nuid": "cd71692a-cf38-4203-8d9b-6be14ad13205",
     "showTitle": false,
     "tableResultSettingsMap": {},
     "title": ""
    }
   },
   "outputs": [],
   "source": [
    "%sql\n",
    "select * from friendship"
   ]
  },
  {
   "cell_type": "code",
   "execution_count": 0,
   "metadata": {
    "application/vnd.databricks.v1+cell": {
     "cellMetadata": {
      "byteLimit": 2048000,
      "implicitDf": true,
      "rowLimit": 10000
     },
     "inputWidgets": {},
     "nuid": "1d6533af-7650-4621-8298-c5f847aece7c",
     "showTitle": false,
     "tableResultSettingsMap": {},
     "title": ""
    }
   },
   "outputs": [],
   "source": [
    "%sql\n",
    "select * from listens order by user_id,day,song_id"
   ]
  },
  {
   "cell_type": "code",
   "execution_count": 0,
   "metadata": {
    "application/vnd.databricks.v1+cell": {
     "cellMetadata": {
      "byteLimit": 2048000,
      "implicitDf": true,
      "rowLimit": 10000
     },
     "inputWidgets": {},
     "nuid": "83bc5444-bef2-4a0b-b95b-2871d9288a49",
     "showTitle": false,
     "tableResultSettingsMap": {},
     "title": ""
    }
   },
   "outputs": [],
   "source": [
    "%sql\n",
    "select user_id,day,count(1) \n",
    "from listens \n",
    "group by user_id,day \n",
    "having count(1)>=3"
   ]
  },
  {
   "cell_type": "code",
   "execution_count": 0,
   "metadata": {
    "application/vnd.databricks.v1+cell": {
     "cellMetadata": {
      "byteLimit": 2048000,
      "implicitDf": true,
      "rowLimit": 10000
     },
     "inputWidgets": {},
     "nuid": "000b0e29-65a9-4014-9a0b-8734ff8ece74",
     "showTitle": false,
     "tableResultSettingsMap": {},
     "title": ""
    }
   },
   "outputs": [],
   "source": [
    "%sql\n",
    "use postg;\n",
    "with cnt3 as (\n",
    "select user_id,day,count(1) \n",
    "from listens \n",
    "group by user_id,day \n",
    "having count(1)>=3\n",
    "),\n",
    "same3 as (\n",
    "select l1.user_id,l2.user_id as user2_id,l1.day,count(1) as tot_sngs\n",
    "from listens l1\n",
    "join listens l2 \n",
    "on l1.day=l2.day and l1.user_id <l2.user_id\n",
    "and l1.song_id=l2.song_id \n",
    "group by l1.user_id,l2.user_id,l1.day\n",
    "having count(1)>=3\n",
    "order by l1.user_id,day --,l1.song_id\n",
    ")\n",
    "select user_id, user2_id from same3 \n",
    "where (user_id,user2_id) not in (select user1_id,user2_id from  friendship)\n"
   ]
  }
 ],
 "metadata": {
  "application/vnd.databricks.v1+notebook": {
   "computePreferences": null,
   "dashboards": [],
   "environmentMetadata": {
    "base_environment": "",
    "environment_version": "2"
   },
   "inputWidgetPreferences": null,
   "language": "python",
   "notebookMetadata": {
    "mostRecentlyExecutedCommandWithImplicitDF": {
     "commandId": 8205540429891449,
     "dataframes": [
      "_sqldf"
     ]
    },
    "pythonIndentUnit": 4
   },
   "notebookName": "Same Songs Recommend to others",
   "widgets": {}
  },
  "language_info": {
   "name": "python"
  }
 },
 "nbformat": 4,
 "nbformat_minor": 0
}
