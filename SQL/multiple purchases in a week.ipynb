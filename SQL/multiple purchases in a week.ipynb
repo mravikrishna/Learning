{
 "cells": [
  {
   "cell_type": "code",
   "execution_count": 0,
   "metadata": {
    "application/vnd.databricks.v1+cell": {
     "cellMetadata": {
      "byteLimit": 2048000,
      "implicitDf": true,
      "rowLimit": 10000
     },
     "inputWidgets": {},
     "nuid": "6b66f229-638c-4153-b6e9-2dfd8b1964c7",
     "showTitle": false,
     "tableResultSettingsMap": {},
     "title": ""
    }
   },
   "outputs": [],
   "source": [
    "%sql\n",
    "CREATE TABLE erm.orders (\n",
    "    order_id INT,\n",
    "    order_date DATE,\n",
    "    user_id INT\n",
    ");\n",
    "\n",
    "INSERT INTO erm.orders VALUES\n",
    "(101, '2024-01-01', 1),\n",
    "(102, '2024-01-05', 1),\n",
    "(103, '2024-01-01', 2),\n",
    "(104, '2024-01-20', 2),\n",
    "(105, '2024-02-01', 3),\n",
    "(106, '2024-02-03', 3),\n",
    "(107, '2024-02-10', 3),\n",
    "(108, '2024-03-01', 4),\n",
    "(109, '2024-03-08', 4),\n",
    "(110, '2024-04-01', 5),\n",
    "(111, '2024-05-10', 6),\n",
    "(112, '2024-05-10', 6);"
   ]
  },
  {
   "cell_type": "code",
   "execution_count": 0,
   "metadata": {
    "application/vnd.databricks.v1+cell": {
     "cellMetadata": {
      "byteLimit": 2048000,
      "implicitDf": true,
      "rowLimit": 10000
     },
     "inputWidgets": {},
     "nuid": "f96484f0-b35c-4d3e-9d36-84ec56f3021a",
     "showTitle": false,
     "tableResultSettingsMap": {},
     "title": ""
    }
   },
   "outputs": [],
   "source": [
    "%sql\n",
    " select * from erm.orders "
   ]
  },
  {
   "cell_type": "code",
   "execution_count": 0,
   "metadata": {
    "application/vnd.databricks.v1+cell": {
     "cellMetadata": {
      "byteLimit": 2048000,
      "implicitDf": true,
      "rowLimit": 10000
     },
     "inputWidgets": {},
     "nuid": "39fe9fb9-2545-4dad-b431-b77466f5a2d0",
     "showTitle": false,
     "tableResultSettingsMap": {},
     "title": ""
    }
   },
   "outputs": [],
   "source": [
    "%sql\n",
    "with cte as (\n",
    "  select order_id,user_id,order_date,\n",
    "  LEAD(order_date) OVER (PARTITION BY user_id ORDER BY order_date) AS next_order_date\n",
    "  from erm.orders\n",
    ")\n",
    "select *,date_diff(next_order_date,order_date)  from cte \n",
    "  where next_order_date is not null\n"
   ]
  }
 ],
 "metadata": {
  "application/vnd.databricks.v1+notebook": {
   "computePreferences": null,
   "dashboards": [],
   "environmentMetadata": {
    "base_environment": "",
    "environment_version": "2"
   },
   "inputWidgetPreferences": null,
   "language": "python",
   "notebookMetadata": {
    "mostRecentlyExecutedCommandWithImplicitDF": {
     "commandId": 7790943593539506,
     "dataframes": [
      "_sqldf"
     ]
    },
    "pythonIndentUnit": 4
   },
   "notebookName": "multiple purchases in a week",
   "widgets": {}
  },
  "language_info": {
   "name": "python"
  }
 },
 "nbformat": 4,
 "nbformat_minor": 0
}
