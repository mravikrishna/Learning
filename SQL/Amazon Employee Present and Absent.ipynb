{
 "cells": [
  {
   "cell_type": "code",
   "execution_count": 0,
   "metadata": {
    "application/vnd.databricks.v1+cell": {
     "cellMetadata": {
      "byteLimit": 2048000,
      "implicitDf": true,
      "rowLimit": 10000
     },
     "inputWidgets": {},
     "nuid": "50afa25f-942d-4549-8c15-a79d00054d99",
     "showTitle": false,
     "tableResultSettingsMap": {},
     "title": ""
    }
   },
   "outputs": [],
   "source": [
    "%sql \n",
    "\n",
    "use postg;\n",
    "\n",
    "drop table if exists emp_attendance;\n",
    "create table emp_attendance\n",
    "(\n",
    "\temployee \tvarchar(10),\n",
    "\tdates \t\tdate,\n",
    "\tstatus \t\tvarchar(20)\n",
    ");\n",
    "insert into emp_attendance values('A1', '2024-01-01', 'PRESENT');\n",
    "insert into emp_attendance values('A1', '2024-01-02', 'PRESENT');\n",
    "insert into emp_attendance values('A1', '2024-01-03', 'PRESENT');\n",
    "insert into emp_attendance values('A1', '2024-01-04', 'ABSENT');\n",
    "insert into emp_attendance values('A1', '2024-01-05', 'PRESENT');\n",
    "insert into emp_attendance values('A1', '2024-01-06', 'PRESENT');\n",
    "insert into emp_attendance values('A1', '2024-01-07', 'ABSENT');\n",
    "insert into emp_attendance values('A1', '2024-01-08', 'ABSENT');\n",
    "insert into emp_attendance values('A1', '2024-01-09', 'ABSENT');\n",
    "insert into emp_attendance values('A1', '2024-01-10', 'PRESENT');\n",
    "insert into emp_attendance values('A2', '2024-01-06', 'PRESENT');\n",
    "insert into emp_attendance values('A2', '2024-01-07', 'PRESENT');\n",
    "insert into emp_attendance values('A2', '2024-01-08', 'ABSENT');\n",
    "insert into emp_attendance values('A2', '2024-01-09', 'PRESENT');\n",
    "insert into emp_attendance values('A2', '2024-01-10', 'ABSENT');\n",
    "\n",
    "--SELECT * from emp_attendance;"
   ]
  },
  {
   "cell_type": "code",
   "execution_count": 0,
   "metadata": {
    "application/vnd.databricks.v1+cell": {
     "cellMetadata": {
      "byteLimit": 2048000,
      "implicitDf": true,
      "rowLimit": 10000
     },
     "inputWidgets": {},
     "nuid": "9ec93b10-94ff-4987-8133-8055303295b2",
     "showTitle": false,
     "tableResultSettingsMap": {},
     "title": ""
    }
   },
   "outputs": [],
   "source": [
    "%sql\n",
    "\n",
    "select * from postg.emp_attendance order by employee,dates"
   ]
  },
  {
   "cell_type": "code",
   "execution_count": 0,
   "metadata": {
    "application/vnd.databricks.v1+cell": {
     "cellMetadata": {
      "byteLimit": 2048000,
      "implicitDf": true,
      "rowLimit": 10000
     },
     "inputWidgets": {},
     "nuid": "f636dbdc-f01b-47be-9fcc-7dff63e30fbe",
     "showTitle": false,
     "tableResultSettingsMap": {},
     "title": ""
    }
   },
   "outputs": [],
   "source": [
    "%sql\n",
    "with cte as (\n",
    "SELECT *, row_number() over(partition by employee order by employee,dates) as rn  from emp_attendance\n",
    "),\n",
    "present as (\n",
    "select *, row_number() over(partition by employee order by employee,dates) as prn,\n",
    "(rn -  row_number() over(partition by employee order by employee,dates)) as flag\n",
    "from cte where status='PRESENT' and employee='A1'\n",
    "),\n",
    "absent as (\n",
    "select *, row_number() over(partition by employee order by employee,dates) as prn,\n",
    "(rn -  row_number() over(partition by employee order by employee,dates)) as flag\n",
    "from cte where status='ABSENT' and employee='A1'\n",
    "),\n",
    "present_date_seq as (\n",
    "select distinct employee,\n",
    "first_value(dates) over(partition by employee,flag order by employee,dates ) as first_date,\n",
    "last_value(dates) over(partition by employee,flag order by employee,dates range between unbounded preceding and unbounded following ) as last_date,\n",
    "status \n",
    "from present \n",
    "),\n",
    "absent_date_seq as (\n",
    "select distinct employee,\n",
    "first_value(dates) over(partition by employee,flag order by employee,dates ) as first_date,\n",
    "last_value(dates) over(partition by employee,flag order by employee,dates range between unbounded preceding and unbounded following ) as last_date,\n",
    "status \n",
    "from absent \n",
    ")\n",
    "select * from present_date_seq\n",
    "union\n",
    "select * from absent_date_seq\n",
    "order by employee,first_date\n"
   ]
  }
 ],
 "metadata": {
  "application/vnd.databricks.v1+notebook": {
   "computePreferences": {
    "hardware": {
     "accelerator": null,
     "gpuPoolId": null,
     "memory": null
    }
   },
   "dashboards": [],
   "environmentMetadata": {
    "base_environment": "",
    "environment_version": "2"
   },
   "inputWidgetPreferences": null,
   "language": "python",
   "notebookMetadata": {
    "mostRecentlyExecutedCommandWithImplicitDF": {
     "commandId": 7910904675344340,
     "dataframes": [
      "_sqldf"
     ]
    },
    "pythonIndentUnit": 4
   },
   "notebookName": "Amazon Employee Present and Absent",
   "widgets": {}
  },
  "language_info": {
   "name": "python"
  }
 },
 "nbformat": 4,
 "nbformat_minor": 0
}
