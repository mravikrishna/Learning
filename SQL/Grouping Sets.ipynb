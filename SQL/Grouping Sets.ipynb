{
 "cells": [
  {
   "cell_type": "markdown",
   "metadata": {
    "application/vnd.databricks.v1+cell": {
     "cellMetadata": {},
     "inputWidgets": {},
     "nuid": "7b4a484b-9a26-4f91-9aee-cf836da24f31",
     "showTitle": false,
     "tableResultSettingsMap": {},
     "title": ""
    }
   },
   "source": [
    "### \n",
    "- Multi level sales reporting \n",
    "- Total sales per city\n",
    "- total sales per products\n",
    "- total sales per each quarter\n",
    "- total sales per city, product, quarter\n",
    "- grand total \n",
    "\n"
   ]
  },
  {
   "cell_type": "code",
   "execution_count": 0,
   "metadata": {
    "application/vnd.databricks.v1+cell": {
     "cellMetadata": {
      "byteLimit": 2048000,
      "implicitDf": true,
      "rowLimit": 10000
     },
     "inputWidgets": {},
     "nuid": "a9a3a4c5-9719-43cd-b14d-0d4316246cdb",
     "showTitle": false,
     "tableResultSettingsMap": {},
     "title": ""
    }
   },
   "outputs": [],
   "source": [
    "%sql\n",
    "\n",
    "create table postg.products(prod_id int, prod_name string);\n",
    "insert into postg.products values(1,\"apple\");\n",
    "insert into postg.products values(2,\"samsung\");\n",
    "insert into postg.products values(3,\"redmi\");\n"
   ]
  },
  {
   "cell_type": "code",
   "execution_count": 0,
   "metadata": {
    "application/vnd.databricks.v1+cell": {
     "cellMetadata": {
      "byteLimit": 2048000,
      "implicitDf": true,
      "rowLimit": 10000
     },
     "inputWidgets": {},
     "nuid": "e1d61a50-41af-4077-a28d-4466ef84b51c",
     "showTitle": false,
     "tableResultSettingsMap": {},
     "title": ""
    }
   },
   "outputs": [],
   "source": [
    "%sql\n",
    "\n",
    "create table postg.sales(sale_id int ,prod_id int, city string, sale_date date, amount double);\n",
    "insert into postg.sales values (1 ,1, \"Hyd\", \"2025-01-05\", 10000);\n",
    "insert into postg.sales values (2 ,2, \"Pune\", \"2025-02-25\", 30000);\n",
    "insert into postg.sales values (3 ,3, \"Hyd\", \"2025-02-15\", 40000);\n",
    "insert into postg.sales values (4 ,1, \"Pune\", \"2025-01-11\", 50000);\n",
    "insert into postg.sales values (5 ,1, \"Hyd\", \"2025-03-05\", 60000);\n",
    "insert into postg.sales values (6 ,2, \"Mum\", \"2025-04-05\", 70000);\n",
    "insert into postg.sales values (7 ,3, \"Hyd\", \"2025-05-05\", 80000);\n",
    "insert into postg.sales values (8 ,1, \"Pune\", \"2025-06-05\", 90000);\n",
    "insert into postg.sales values (9 ,1, \"Hyd\", \"2025-07-05\", 15000);\n",
    "insert into postg.sales values (10 ,1, \"Pune\", \"2025-08-05\", 16000);\n",
    "insert into postg.sales values (11 ,2, \"Hyd\", \"2025-09-05\", 17000);\n",
    "insert into postg.sales values (12 ,2, \"Mum\", \"2025-10-05\", 18000);\n",
    "insert into postg.sales values (13 ,2, \"Hyd\", \"2025-11-05\", 19000);\n",
    "insert into postg.sales values (14 ,3, \"Guntur\", \"2025-01-15\", 200000);\n",
    "insert into postg.sales values (15 ,1, \"Hyd\", \"2025-01-25\", 21000);\n",
    "insert into postg.sales values (16 ,3, \"Guntur\", \"2025-03-25\", 22000);\n",
    "insert into postg.sales values (17 ,3, \"Hyd\", \"2025-01-05\", 23000);\n",
    "insert into postg.sales values (18 ,2, \"Guntur\", \"2025-04-15\", 24000);\n",
    "insert into postg.sales values (19 ,2, \"Hyd\", \"2025-08-09\", 25000);\n",
    "insert into postg.sales values (20 ,1, \"Guntur\", \"2025-06-27\", 350000);"
   ]
  },
  {
   "cell_type": "code",
   "execution_count": 0,
   "metadata": {
    "application/vnd.databricks.v1+cell": {
     "cellMetadata": {
      "byteLimit": 2048000,
      "implicitDf": true,
      "rowLimit": 10000
     },
     "inputWidgets": {},
     "nuid": "27a063c6-9974-4881-ae32-cc3e9f4f71db",
     "showTitle": false,
     "tableResultSettingsMap": {},
     "title": ""
    }
   },
   "outputs": [],
   "source": [
    "%sql select * from postg.sales;"
   ]
  },
  {
   "cell_type": "code",
   "execution_count": 0,
   "metadata": {
    "application/vnd.databricks.v1+cell": {
     "cellMetadata": {
      "byteLimit": 2048000,
      "implicitDf": true,
      "rowLimit": 10000
     },
     "inputWidgets": {},
     "nuid": "5548bffe-c2d9-4ba0-9104-29ddd248ca15",
     "showTitle": false,
     "tableResultSettingsMap": {},
     "title": ""
    }
   },
   "outputs": [],
   "source": [
    "%sql \n",
    "use postg;\n",
    "select city, sum(amount) as total_sales from products join sales on sales.prod_id=products.prod_id group by city"
   ]
  },
  {
   "cell_type": "code",
   "execution_count": 0,
   "metadata": {
    "application/vnd.databricks.v1+cell": {
     "cellMetadata": {
      "byteLimit": 2048000,
      "rowLimit": 10000
     },
     "inputWidgets": {},
     "nuid": "66fa05ff-957f-4284-908d-1ff55205269e",
     "showTitle": false,
     "tableResultSettingsMap": {},
     "title": ""
    }
   },
   "outputs": [],
   "source": [
    "prddf = spark.read.table('postg.products')\n",
    "salesdf = spark.read.table(\"postg.sales\")\n",
    "#display(prddf)\n",
    "#display(salesdf)"
   ]
  },
  {
   "cell_type": "code",
   "execution_count": 0,
   "metadata": {
    "application/vnd.databricks.v1+cell": {
     "cellMetadata": {
      "byteLimit": 2048000,
      "rowLimit": 10000
     },
     "inputWidgets": {},
     "nuid": "3bed8a18-6b63-4bf1-a362-725bbe41b53e",
     "showTitle": false,
     "tableResultSettingsMap": {},
     "title": ""
    }
   },
   "outputs": [],
   "source": [
    "# city sales count\n",
    "\n",
    "from pyspark.sql.functions import * \n",
    "from pyspark.sql.types import *\n",
    "\n",
    "prddf.join(salesdf, prddf.prod_id == salesdf.prod_id,'inner').groupBy(\"city\").agg(sum(salesdf.amount).alias(\"total_sales\")).show()\n",
    "\n"
   ]
  },
  {
   "cell_type": "code",
   "execution_count": 0,
   "metadata": {
    "application/vnd.databricks.v1+cell": {
     "cellMetadata": {
      "byteLimit": 2048000,
      "implicitDf": true,
      "rowLimit": 10000
     },
     "inputWidgets": {},
     "nuid": "ab179c2f-b6f7-4444-a1bb-c846b860f507",
     "showTitle": false,
     "tableResultSettingsMap": {},
     "title": ""
    }
   },
   "outputs": [],
   "source": [
    "%sql\n",
    "use postg;\n",
    "\n",
    "select *, extract(quarter from sale_date) from sales;"
   ]
  },
  {
   "cell_type": "code",
   "execution_count": 0,
   "metadata": {
    "application/vnd.databricks.v1+cell": {
     "cellMetadata": {
      "byteLimit": 2048000,
      "rowLimit": 10000
     },
     "inputWidgets": {},
     "nuid": "3f443526-f4ef-4279-b77d-64a4268119e3",
     "showTitle": false,
     "tableResultSettingsMap": {},
     "title": ""
    }
   },
   "outputs": [],
   "source": [
    "from pyspark.sql.functions import *\n",
    "from pyspark.sql.functions import quarter\n",
    "\n",
    "salesdf.withColumn('quarter', quarter(salesdf['sale_date'])).show()"
   ]
  },
  {
   "cell_type": "code",
   "execution_count": 0,
   "metadata": {
    "application/vnd.databricks.v1+cell": {
     "cellMetadata": {
      "byteLimit": 2048000,
      "implicitDf": true,
      "rowLimit": 10000
     },
     "inputWidgets": {},
     "nuid": "cd5572db-02f0-46de-a8cb-1de2c290f05a",
     "showTitle": false,
     "tableResultSettingsMap": {},
     "title": ""
    }
   },
   "outputs": [],
   "source": [
    "%sql\n",
    "select city,prod_name, sum(amount) as total_sales,count(1) as num_sales from products join sales on sales.prod_id=products.prod_id group by city,prod_name"
   ]
  },
  {
   "cell_type": "code",
   "execution_count": 0,
   "metadata": {
    "application/vnd.databricks.v1+cell": {
     "cellMetadata": {
      "byteLimit": 2048000,
      "rowLimit": 10000
     },
     "inputWidgets": {},
     "nuid": "47682202-f370-4226-93c3-f11b55799af5",
     "showTitle": false,
     "tableResultSettingsMap": {},
     "title": ""
    }
   },
   "outputs": [],
   "source": [
    "from pyspark.sql.functions import col\n",
    "salesdf.join(prddf,salesdf.prod_id == prddf.prod_id,\"inner\").\\\n",
    "    groupBy(col('city'),col('prod_name')).\\\n",
    "        agg(count(col('*')).alias('num_sales'),sum(col('amount')).alias('total_sales')).show()\n"
   ]
  },
  {
   "cell_type": "code",
   "execution_count": 0,
   "metadata": {
    "application/vnd.databricks.v1+cell": {
     "cellMetadata": {
      "byteLimit": 2048000,
      "implicitDf": true,
      "rowLimit": 10000
     },
     "inputWidgets": {},
     "nuid": "fa9a0f0a-809f-4d40-a03f-f60cea67ba86",
     "showTitle": false,
     "tableResultSettingsMap": {
      "0": {
       "dataGridStateBlob": "{\"version\":1,\"tableState\":{\"columnPinning\":{\"left\":[\"#row_number#\"],\"right\":[]},\"columnSizing\":{},\"columnVisibility\":{}},\"settings\":{\"columns\":{}},\"syncTimestamp\":1754046230895}",
       "filterBlob": null,
       "queryPlanFiltersBlob": null,
       "tableResultIndex": 0
      }
     },
     "title": ""
    }
   },
   "outputs": [],
   "source": [
    "%sql\n",
    "select city,prod_name, sum(amount) as total_sales\n",
    "from products join sales on sales.prod_id=products.prod_id \n",
    "group by grouping sets(city,prod_name,())\n",
    "--group by grouping sets ((city),(prod_name),(city,prod_name),())"
   ]
  },
  {
   "cell_type": "code",
   "execution_count": 0,
   "metadata": {
    "application/vnd.databricks.v1+cell": {
     "cellMetadata": {
      "byteLimit": 2048000,
      "rowLimit": 10000
     },
     "inputWidgets": {},
     "nuid": "729c0a82-283e-4d9e-95d4-8277f1edbe81",
     "showTitle": false,
     "tableResultSettingsMap": {},
     "title": ""
    }
   },
   "outputs": [],
   "source": [
    "from pyspark.sql.functions import *\n",
    "\n",
    "df =salesdf.join(prddf, prddf.prod_id == salesdf.prod_id,\"inner\").\\\n",
    "groupingSets([(\"city\",),(\"prod_name\",),()],\"city\",\"prod_name\").\\\n",
    "    agg(sum(salesdf.amount))\n",
    "display(df)    \n",
    "\n",
    " #[(\"city\", \"car_model\"), (\"city\",), ()],\"city\", \"car_model\""
   ]
  },
  {
   "cell_type": "code",
   "execution_count": 0,
   "metadata": {
    "application/vnd.databricks.v1+cell": {
     "cellMetadata": {
      "byteLimit": 2048000,
      "implicitDf": true,
      "rowLimit": 10000
     },
     "inputWidgets": {},
     "nuid": "338cf1e1-9365-403b-b77b-8aa5eac3c51f",
     "showTitle": false,
     "tableResultSettingsMap": {},
     "title": ""
    }
   },
   "outputs": [],
   "source": [
    "%sql\n",
    "select city,prod_name, sum(amount) as total_sales,\n",
    "grouping(city) as group_city,\n",
    "grouping(prod_name) as group_prod_name\n",
    "from products join sales on sales.prod_id=products.prod_id \n",
    "group by grouping sets(city,prod_name,())\n",
    "--group by grouping sets ((city),(prod_name),(city,prod_name),())"
   ]
  },
  {
   "cell_type": "code",
   "execution_count": 0,
   "metadata": {
    "application/vnd.databricks.v1+cell": {
     "cellMetadata": {
      "byteLimit": 2048000,
      "rowLimit": 10000
     },
     "inputWidgets": {},
     "nuid": "72d5c1cf-06c1-49e0-b457-d9cb1eedc8e4",
     "showTitle": false,
     "tableResultSettingsMap": {},
     "title": ""
    }
   },
   "outputs": [],
   "source": [
    "salesdf.join(prddf, prddf.prod_id == salesdf.prod_id,\"inner\").\\\n",
    "    groupingSets([(\"city\",),(\"prod_name\",),()],\"city\",\"prod_name\").\\\n",
    "        agg(sum(salesdf.amount).alias(\"total_sales\")).show()\n"
   ]
  },
  {
   "cell_type": "code",
   "execution_count": 0,
   "metadata": {
    "application/vnd.databricks.v1+cell": {
     "cellMetadata": {
      "byteLimit": 2048000,
      "implicitDf": true,
      "rowLimit": 10000
     },
     "inputWidgets": {},
     "nuid": "e37bc248-b720-43c7-a407-a51aff31056c",
     "showTitle": false,
     "tableResultSettingsMap": {},
     "title": ""
    }
   },
   "outputs": [],
   "source": [
    "%sql \n",
    "use postg;\n",
    "\n",
    "select city,prod_name, extract(quarter from sale_date) as qtr ,sum(amount) as total_sales,\n",
    "grouping(city)  as group_city,\n",
    "grouping(prod_name) as group_product\n",
    "from sales \n",
    "join products \n",
    "on sales.prod_id = products.prod_id\n",
    "group by grouping sets (city, prod_name,extract(quarter from sale_date) , ())"
   ]
  }
 ],
 "metadata": {
  "application/vnd.databricks.v1+notebook": {
   "computePreferences": null,
   "dashboards": [],
   "environmentMetadata": {
    "base_environment": "",
    "environment_version": "2"
   },
   "inputWidgetPreferences": null,
   "language": "python",
   "notebookMetadata": {
    "mostRecentlyExecutedCommandWithImplicitDF": {
     "commandId": 8125748659090299,
     "dataframes": [
      "_sqldf"
     ]
    },
    "pythonIndentUnit": 4
   },
   "notebookName": "Grouping Sets",
   "widgets": {}
  },
  "language_info": {
   "name": "python"
  }
 },
 "nbformat": 4,
 "nbformat_minor": 0
}
