{
 "cells": [
  {
   "cell_type": "markdown",
   "metadata": {
    "application/vnd.databricks.v1+cell": {
     "cellMetadata": {},
     "inputWidgets": {},
     "nuid": "46d9cc96-33de-4060-bccd-a750ee1afc2e",
     "showTitle": false,
     "tableResultSettingsMap": {},
     "title": ""
    }
   },
   "source": [
    "### \n",
    "Hierarchical report of total sales by city, product including sub totals of (city,product) and grand total\n",
    "- Multi level sales reporting \n",
    "- Total sales per city\n",
    "- total sales per products\n",
    "- total sales per each quarter\n",
    "- total sales per city, product, quarter\n",
    "- grand total "
   ]
  },
  {
   "cell_type": "markdown",
   "metadata": {
    "application/vnd.databricks.v1+cell": {
     "cellMetadata": {},
     "inputWidgets": {},
     "nuid": "c81f9622-3a79-4ad4-9e51-2f96e0b76409",
     "showTitle": false,
     "tableResultSettingsMap": {},
     "title": ""
    }
   },
   "source": [
    "rollup "
   ]
  },
  {
   "cell_type": "code",
   "execution_count": 0,
   "metadata": {
    "application/vnd.databricks.v1+cell": {
     "cellMetadata": {
      "byteLimit": 2048000,
      "implicitDf": true,
      "rowLimit": 10000
     },
     "inputWidgets": {},
     "nuid": "1e492718-3be1-4343-b930-d2f98a91093e",
     "showTitle": false,
     "tableResultSettingsMap": {
      "0": {
       "dataGridStateBlob": "{\"version\":1,\"tableState\":{\"columnPinning\":{\"left\":[\"#row_number#\"],\"right\":[]},\"columnSizing\":{},\"columnVisibility\":{}},\"settings\":{\"columns\":{}},\"syncTimestamp\":1754051005386}",
       "filterBlob": null,
       "queryPlanFiltersBlob": null,
       "tableResultIndex": 0
      }
     },
     "title": ""
    }
   },
   "outputs": [],
   "source": [
    "%sql \n",
    "use postg;\n",
    "\n",
    "select city,prod_name, sum(amount) as total_sales,\n",
    "grouping(city) as group_city,\n",
    "grouping(prod_name) as group_prod\n",
    "from sales \n",
    "join products \n",
    "on sales.prod_id = products.prod_id\n",
    "group by rollup (city,prod_name)\n",
    "\n",
    "\n"
   ]
  },
  {
   "cell_type": "markdown",
   "metadata": {
    "application/vnd.databricks.v1+cell": {
     "cellMetadata": {},
     "inputWidgets": {},
     "nuid": "8ed57c7b-0622-4801-8fef-0cbf6b3f7e2a",
     "showTitle": false,
     "tableResultSettingsMap": {},
     "title": ""
    }
   },
   "source": [
    "# rollup (city,prod_name)  ==>  group by (city,prod_name)  union (city)  union () "
   ]
  },
  {
   "cell_type": "markdown",
   "metadata": {
    "application/vnd.databricks.v1+cell": {
     "cellMetadata": {},
     "inputWidgets": {},
     "nuid": "af7b6d7c-baf4-4d7a-a578-a637c1b3baad",
     "showTitle": false,
     "tableResultSettingsMap": {},
     "title": ""
    }
   },
   "source": [
    "### \n",
    "\n",
    "- Full Multi-Dimensional Analysis.\n",
    "- Explore all combinations of city, product and quarter to identify trends.\n",
    "-  -- How each product performs across all cities\n",
    "-  -- Which cities have the best overall sales\n",
    "-  -- Which product have the best overall sales\n",
    "-  -- Which quarter is the most profitable\n",
    "-  -- Combined city+product performance\n",
    "-  -- Combined city+product+qtr performance\n",
    "-  -- Combined product+qtr performance\n",
    "-  -- The grand total"
   ]
  },
  {
   "cell_type": "code",
   "execution_count": 0,
   "metadata": {
    "application/vnd.databricks.v1+cell": {
     "cellMetadata": {
      "byteLimit": 2048000,
      "implicitDf": true,
      "rowLimit": 10000
     },
     "inputWidgets": {},
     "nuid": "5ff45b07-84f1-4375-b297-f290f838fe3d",
     "showTitle": false,
     "tableResultSettingsMap": {},
     "title": ""
    }
   },
   "outputs": [],
   "source": [
    "%sql select sum(amount) from sales "
   ]
  },
  {
   "cell_type": "markdown",
   "metadata": {
    "application/vnd.databricks.v1+cell": {
     "cellMetadata": {},
     "inputWidgets": {},
     "nuid": "79a3c990-86bd-46fb-b0d6-986f97b57970",
     "showTitle": false,
     "tableResultSettingsMap": {},
     "title": ""
    }
   },
   "source": [
    "# cube (city,prod_name)  ==>  group by (city,prod_name)  union (city)  union (prod_name)  union ()\n"
   ]
  }
 ],
 "metadata": {
  "application/vnd.databricks.v1+notebook": {
   "computePreferences": null,
   "dashboards": [],
   "environmentMetadata": {
    "base_environment": "",
    "environment_version": "2"
   },
   "inputWidgetPreferences": null,
   "language": "python",
   "notebookMetadata": {
    "mostRecentlyExecutedCommandWithImplicitDF": {
     "commandId": 8125748659090306,
     "dataframes": [
      "_sqldf"
     ]
    },
    "pythonIndentUnit": 4
   },
   "notebookName": "Rollup and Cube",
   "widgets": {}
  },
  "language_info": {
   "name": "python"
  }
 },
 "nbformat": 4,
 "nbformat_minor": 0
}
