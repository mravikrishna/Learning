{
 "cells": [
  {
   "cell_type": "code",
   "execution_count": 0,
   "metadata": {
    "application/vnd.databricks.v1+cell": {
     "cellMetadata": {
      "byteLimit": 2048000,
      "implicitDf": true,
      "rowLimit": 10000
     },
     "inputWidgets": {},
     "nuid": "0148933f-5cbb-494e-b965-de1cab663e33",
     "showTitle": false,
     "tableResultSettingsMap": {},
     "title": ""
    }
   },
   "outputs": [],
   "source": [
    "%sql \n",
    "use postg;\n",
    "DROP TABLE IF EXISTS teams;\n",
    "CREATE TABLE teams \n",
    "(\n",
    "       team_id       INT PRIMARY KEY,\n",
    "       team_name     VARCHAR(50) NOT NULL\n",
    ");\n",
    "\n",
    "\n",
    "DROP TABLE IF EXISTS matches;\n",
    "CREATE TABLE matches \n",
    "(\n",
    "       match_id \tINT PRIMARY KEY,\n",
    "       host_team \tINT,\n",
    "       guest_team \tINT,\n",
    "       host_goals \tINT,\n",
    "       guest_goals \tINT\n",
    ");\n",
    "\n",
    "INSERT INTO teams VALUES(10, 'Give');\n",
    "INSERT INTO teams VALUES(20, 'Never');\n",
    "INSERT INTO teams VALUES(30, 'You');\n",
    "INSERT INTO teams VALUES(40, 'Up');\n",
    "INSERT INTO teams VALUES(50, 'Gonna');\n",
    "\n",
    "INSERT INTO matches VALUES(1, 30, 20, 1, 0);\n",
    "INSERT INTO matches VALUES(2, 10, 20, 1, 2);\n",
    "INSERT INTO matches VALUES(3, 20, 50, 2, 2);\n",
    "INSERT INTO matches VALUES(4, 10, 30, 1, 0);\n",
    "INSERT INTO matches VALUES(5, 30, 50, 0, 1);\n",
    "\n"
   ]
  },
  {
   "cell_type": "code",
   "execution_count": 0,
   "metadata": {
    "application/vnd.databricks.v1+cell": {
     "cellMetadata": {
      "byteLimit": 2048000,
      "implicitDf": true,
      "rowLimit": 10000
     },
     "inputWidgets": {},
     "nuid": "6e7f20a5-b7ff-49db-b751-f4fd980b6c55",
     "showTitle": false,
     "tableResultSettingsMap": {},
     "title": ""
    }
   },
   "outputs": [],
   "source": [
    "%sql select * from teams"
   ]
  },
  {
   "cell_type": "code",
   "execution_count": 0,
   "metadata": {
    "application/vnd.databricks.v1+cell": {
     "cellMetadata": {
      "byteLimit": 2048000,
      "implicitDf": true,
      "rowLimit": 10000
     },
     "inputWidgets": {},
     "nuid": "93a8c06e-0331-41be-92d8-7026c7290b82",
     "showTitle": false,
     "tableResultSettingsMap": {},
     "title": ""
    }
   },
   "outputs": [],
   "source": [
    "%sql\n",
    "use postg;\n",
    "--SELECT * FROM teams;\n",
    "with cte as (\n",
    "SELECT  host_team,guest_team,\n",
    "(case when host_goals > guest_goals then 3\n",
    "when host_goals = guest_goals then 1\n",
    "else 0 end) as host_points,\n",
    "(case when guest_goals > host_goals then 3\n",
    "when guest_goals = host_goals then 1\n",
    "else 0 end) as guest_points\n",
    "FROM matches\n",
    "),\n",
    "host as (select host_team, sum(host_points) as tot_points from cte group by 1),\n",
    "guest as (select guest_team, sum(guest_points) as tot_points from cte group by 1),\n",
    "calc as (select guest_team as team_id, sum(tot_points) as tot_score from (\n",
    "select * from guest union all select * from host order by tot_points desc\n",
    ")x group by 1 ) \n",
    "select team_name, coalesce(tot_score,0) as score\n",
    "from teams\n",
    "left join calc on teams.team_id = calc.team_id\n",
    "order by score desc , team_name \n",
    "\n",
    "\n",
    "\n"
   ]
  },
  {
   "cell_type": "code",
   "execution_count": 0,
   "metadata": {
    "application/vnd.databricks.v1+cell": {
     "cellMetadata": {
      "byteLimit": 2048000,
      "implicitDf": true,
      "rowLimit": 10000
     },
     "inputWidgets": {},
     "nuid": "dcfa5efb-533c-42d9-b5e1-ca81fb583664",
     "showTitle": false,
     "tableResultSettingsMap": {},
     "title": ""
    }
   },
   "outputs": [],
   "source": [
    "%sql \n",
    "\n",
    "with cte as (\n",
    "select *,\n",
    "case when host_goals > guest_goals then 3\n",
    "\t when host_goals < guest_goals then 0\n",
    "else 1\n",
    "end host_points,\n",
    "case when host_goals < guest_goals then 3\n",
    "\t when host_goals > guest_goals then 0\n",
    "else 1\n",
    "end guest_points\n",
    "from matches\n",
    "),\n",
    "cte1 as (\n",
    "select host_team teams, host_points points\n",
    "from cte\n",
    "union all\n",
    "select guest_team teams, guest_points points\n",
    "from cte\n",
    ")\n",
    "\n",
    "select t.team_id, t.team_name, ifnull(sum(c.points), 0) total\n",
    "from cte1 c right join teams t on c.teams = t.team_id\n",
    "group by 1, 2\n",
    "order by 3 desc, t.team_name"
   ]
  }
 ],
 "metadata": {
  "application/vnd.databricks.v1+notebook": {
   "computePreferences": null,
   "dashboards": [],
   "environmentMetadata": {
    "base_environment": "",
    "environment_version": "2"
   },
   "inputWidgetPreferences": null,
   "language": "python",
   "notebookMetadata": {
    "mostRecentlyExecutedCommandWithImplicitDF": {
     "commandId": 7259768618930857,
     "dataframes": [
      "_sqldf"
     ]
    },
    "pythonIndentUnit": 4
   },
   "notebookName": "Queries Foodball Match and points",
   "widgets": {}
  },
  "language_info": {
   "name": "python"
  }
 },
 "nbformat": 4,
 "nbformat_minor": 0
}
