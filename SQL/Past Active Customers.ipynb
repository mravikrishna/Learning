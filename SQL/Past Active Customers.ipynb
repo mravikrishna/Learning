{
 "cells": [
  {
   "cell_type": "code",
   "execution_count": 0,
   "metadata": {
    "application/vnd.databricks.v1+cell": {
     "cellMetadata": {
      "byteLimit": 2048000,
      "implicitDf": true,
      "rowLimit": 10000
     },
     "inputWidgets": {},
     "nuid": "d69c8d83-12c0-42e4-9bc4-629b59ccec14",
     "showTitle": false,
     "tableResultSettingsMap": {},
     "title": ""
    }
   },
   "outputs": [],
   "source": [
    "%sql\n",
    "\n",
    "\n",
    "DROP TABLE IF EXISTS tau.customers;\n",
    "CREATE TABLE tau.customers \n",
    "(\n",
    "    id     INT PRIMARY KEY,\n",
    "    name   VARCHAR(50)\n",
    ");\n",
    "INSERT INTO tau.customers VALUES\n",
    "(101, 'David Smith'),\n",
    "(102, 'Nikhil Reddy'),\n",
    "(103, 'Carol Tan'),\n",
    "(104, 'Riya Sengupta'),\n",
    "(105, 'Liam Patel'),\n",
    "(106, 'Priya Nair'),\n",
    "(107, 'James Canny');\n",
    "\n"
   ]
  },
  {
   "cell_type": "code",
   "execution_count": 0,
   "metadata": {
    "application/vnd.databricks.v1+cell": {
     "cellMetadata": {
      "byteLimit": 2048000,
      "implicitDf": true,
      "rowLimit": 10000
     },
     "inputWidgets": {},
     "nuid": "fe86c832-b992-4dec-8875-22714769c64a",
     "showTitle": false,
     "tableResultSettingsMap": {},
     "title": ""
    }
   },
   "outputs": [],
   "source": [
    "%sql\n",
    "\n",
    "DROP TABLE IF EXISTS tau.orders;\n",
    "CREATE TABLE tau.orders \n",
    "(\n",
    "    id              INT PRIMARY KEY,\n",
    "    customer_id     INT,\n",
    "    order_date      DATE\n",
    ");\n",
    "INSERT INTO tau.orders VALUES\n",
    "(1 , 101, '2024-01-05'),\n",
    "(2 , 101, '2024-02-10'),\n",
    "(3 , 101, '2024-03-03'),\n",
    "(4 , 101, '2024-04-15'),\n",
    "(5 , 101, '2024-05-20'),\n",
    "(6 , 101, '2024-06-18'),\n",
    "(7 , 101, '2024-07-12'),\n",
    "(8 , 101, '2024-08-25'),\n",
    "(9 , 101, '2024-09-30'),\n",
    "(10, 101, '2024-10-22'),\n",
    "(11, 101, '2024-11-02'),\n",
    "(12, 101, '2024-12-17'),\n",
    "(13, 102, '2024-01-10'),\n",
    "(14, 102, '2024-02-15'),\n",
    "(15, 102, '2024-03-10'),\n",
    "(16, 102, '2024-04-05'),\n",
    "(17, 102, '2024-05-07'),\n",
    "(18, 102, '2024-06-12'),\n",
    "(19, 102, '2024-07-14'),\n",
    "(20, 102, '2024-08-16'),\n",
    "(21, 103, '2024-01-01'),\n",
    "(22, 103, '2024-04-01'),\n",
    "(23, 103, '2024-07-01'),\n",
    "(24, 103, '2024-10-01'),\n",
    "(25, 104, '2024-02-20'),\n",
    "(26, 104, '2024-05-20'),\n",
    "(27, 104, '2024-08-20'),\n",
    "(28, 105, '2024-01-01'),\n",
    "(29, 105, '2024-02-01'),\n",
    "(30, 105, '2024-03-01'),\n",
    "(31, 105, '2024-04-01'),\n",
    "(32, 105, '2024-05-01'),\n",
    "(33, 105, '2024-06-01'),\n",
    "(34, 105, '2024-07-01'),\n",
    "(35, 105, '2024-08-01'),\n",
    "(36, 105, '2024-09-01'),\n",
    "(37, 105, '2024-10-01'),\n",
    "(38, 105, '2024-11-01'),\n",
    "(39, 105, '2024-12-01'),\n",
    "(40, 102, '2024-08-10'),\n",
    "(41, 102, '2024-07-05'),\n",
    "(42, 102, '2024-06-06'),\n",
    "(43, 102, '2024-05-26'),\n",
    "(44, 106, '2024-01-02'),\n",
    "(45, 106, '2024-02-13'),\n",
    "(46, 106, '2024-03-05'),\n",
    "(47, 106, '2024-04-16'),\n",
    "(48, 106, '2024-05-26'),\n",
    "(49, 106, '2024-06-17'),\n",
    "(50, 106, '2024-07-19'),\n",
    "(51, 106, '2024-08-20'),\n",
    "(52, 106, '2024-09-12'),\n",
    "(53, 106, '2024-10-22'),\n",
    "(54, 106, '2024-11-03'),\n",
    "(55, 106, '2024-12-14'),\n",
    "(56, 105, '2025-01-28'),\n",
    "(57, 105, '2025-04-21'),\n",
    "(58, 103, '2025-03-22'),\n",
    "(59, 101, '2023-01-15'),\n",
    "(60, 101, '2023-02-11'),\n",
    "(61, 101, '2023-03-13'),\n",
    "(62, 101, '2023-05-10'),\n",
    "(63, 101, '2023-06-12'),\n",
    "(64, 101, '2023-07-11'),\n",
    "(65, 101, '2023-12-12'),\n",
    "(66, 107, '2024-01-22'),\n",
    "(67, 107, '2024-02-28'),\n",
    "(68, 107, '2024-03-31'),\n",
    "(69, 107, '2024-04-30'),\n",
    "(70, 107, '2024-05-30'),\n",
    "(71, 107, '2024-06-30'),\n",
    "(72, 107, '2024-07-31'),\n",
    "(73, 107, '2024-08-31'),\n",
    "(74, 107, '2024-09-30'),\n",
    "(75, 107, '2024-10-31'),\n",
    "(76, 107, '2024-11-30'),\n",
    "(77, 107, '2024-12-28'),\n",
    "(78, 107, '2024-12-31'),\n",
    "(79, 107, '2023-07-31'),\n",
    "(80, 107, '2023-08-31'),\n",
    "(81, 107, '2023-09-30'),\n",
    "(82, 107, '2023-10-31'),\n",
    "(83, 107, '2023-11-30'),\n",
    "(84, 107, '2023-12-31'),\n",
    "(85, 105, '2023-01-21'),\n",
    "(86, 105, '2023-03-09'),\n",
    "(87, 105, '2023-04-20'),\n",
    "(88, 105, '2023-06-10'),\n",
    "(89, 105, '2023-10-10'),\n",
    "(90, 105, '2023-11-21');"
   ]
  },
  {
   "cell_type": "code",
   "execution_count": 0,
   "metadata": {
    "application/vnd.databricks.v1+cell": {
     "cellMetadata": {
      "byteLimit": 2048000,
      "implicitDf": true,
      "rowLimit": 10000
     },
     "inputWidgets": {},
     "nuid": "b3b43398-e211-48be-89c3-3f81440f7146",
     "showTitle": false,
     "tableResultSettingsMap": {},
     "title": ""
    }
   },
   "outputs": [],
   "source": [
    "%sql \n",
    "\n",
    "select * from tau.customers"
   ]
  },
  {
   "cell_type": "code",
   "execution_count": 0,
   "metadata": {
    "application/vnd.databricks.v1+cell": {
     "cellMetadata": {
      "byteLimit": 2048000,
      "implicitDf": true,
      "rowLimit": 10000
     },
     "inputWidgets": {},
     "nuid": "55e8bd88-d973-4938-9a08-2d8d331740d7",
     "showTitle": false,
     "tableResultSettingsMap": {},
     "title": ""
    }
   },
   "outputs": [],
   "source": [
    "%sql\n",
    "select * from tau.orders"
   ]
  },
  {
   "cell_type": "code",
   "execution_count": 0,
   "metadata": {
    "application/vnd.databricks.v1+cell": {
     "cellMetadata": {
      "byteLimit": 2048000,
      "implicitDf": true,
      "rowLimit": 10000
     },
     "inputWidgets": {},
     "nuid": "8d8e67d3-a8b9-42ba-9b45-2ecbf076c495",
     "showTitle": false,
     "tableResultSettingsMap": {},
     "title": ""
    }
   },
   "outputs": [],
   "source": [
    "%sql\n",
    "with cte as (\n",
    "select c.id, name, \n",
    "extract(year from order_date) as yr,\n",
    "count(distinct (extract(month from order_date))) as cnt  from tau.orders o\n",
    "left join tau.customers c on o.customer_id = c.id\n",
    "group by c.id, name, yr \n",
    ")\n",
    "select c23.name \n",
    "from cte as c23 \n",
    "left join cte as c24 on c23.name = c24.name \n",
    "where c23.yr = 2023 and c23.cnt >= 6\n",
    "and c24.yr =2024 and c24.cnt >= 12\n",
    "and c23.id not in (select id from cte where yr =2025)\n",
    "\n"
   ]
  },
  {
   "cell_type": "code",
   "execution_count": 0,
   "metadata": {
    "application/vnd.databricks.v1+cell": {
     "cellMetadata": {},
     "inputWidgets": {},
     "nuid": "ad01402d-a0bc-4a24-afb8-9472dde1327a",
     "showTitle": false,
     "tableResultSettingsMap": {},
     "title": ""
    }
   },
   "outputs": [],
   "source": []
  }
 ],
 "metadata": {
  "application/vnd.databricks.v1+notebook": {
   "computePreferences": null,
   "dashboards": [],
   "environmentMetadata": {
    "base_environment": "",
    "environment_version": "2"
   },
   "inputWidgetPreferences": null,
   "language": "python",
   "notebookMetadata": {
    "mostRecentlyExecutedCommandWithImplicitDF": {
     "commandId": 7148887268072525,
     "dataframes": [
      "_sqldf"
     ]
    },
    "pythonIndentUnit": 4
   },
   "notebookName": "Past Active Customers",
   "widgets": {}
  },
  "language_info": {
   "name": "python"
  }
 },
 "nbformat": 4,
 "nbformat_minor": 0
}
