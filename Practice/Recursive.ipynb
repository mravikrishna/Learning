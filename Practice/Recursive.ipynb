{
 "cells": [
  {
   "cell_type": "code",
   "execution_count": 0,
   "metadata": {
    "application/vnd.databricks.v1+cell": {
     "cellMetadata": {
      "byteLimit": 2048000,
      "implicitDf": true,
      "rowLimit": 10000
     },
     "inputWidgets": {},
     "nuid": "47647250-60e5-4c09-813c-f39d0412b305",
     "showTitle": false,
     "tableResultSettingsMap": {},
     "title": ""
    }
   },
   "outputs": [],
   "source": [
    "%sql\n",
    "with recursive num as (\n",
    "select 1 as n\n",
    "union all\n",
    "select n+1 from num where n <10\n",
    ")\n",
    "select * from num "
   ]
  },
  {
   "cell_type": "code",
   "execution_count": 0,
   "metadata": {
    "application/vnd.databricks.v1+cell": {
     "cellMetadata": {
      "byteLimit": 2048000,
      "implicitDf": true,
      "rowLimit": 10000
     },
     "inputWidgets": {},
     "nuid": "e35f739c-18f4-485f-a68c-5ba78d396e23",
     "showTitle": false,
     "tableResultSettingsMap": {},
     "title": ""
    }
   },
   "outputs": [],
   "source": [
    "%sql\n",
    "select e2.* from erm.employee e1\n",
    "join erm.employee e2 on e1.manager = e2.Employee_ID\n"
   ]
  },
  {
   "cell_type": "code",
   "execution_count": 0,
   "metadata": {
    "application/vnd.databricks.v1+cell": {
     "cellMetadata": {
      "byteLimit": 2048000,
      "implicitDf": true,
      "rowLimit": 10000
     },
     "inputWidgets": {},
     "nuid": "8709b5e3-46d4-4266-b83c-e01cf0447bb4",
     "showTitle": false,
     "tableResultSettingsMap": {},
     "title": ""
    }
   },
   "outputs": [],
   "source": [
    "%sql\n",
    "use erm;\n",
    "--create table erm.employees(id int,name string,manager_id int,salary double,designation string); \n",
    "INSERT INTO employees (id, name, manager_id, salary, designation) VALUES (1, 'Shripadh', NULL, 10000, 'CEO');\n",
    "INSERT INTO employees (id, name, manager_id, salary, designation) VALUES (2, 'Satya', 5, 1400, 'Software Engineer');\n",
    "INSERT INTO employees (id, name, manager_id, salary, designation) VALUES (3, 'Jia', 5, 500, 'Data Analyst');\n",
    "INSERT INTO employees (id, name, manager_id, salary, designation) VALUES (4, 'David', 5, 1800, 'Data Scientist');\n",
    "INSERT INTO employees (id, name, manager_id, salary, designation) VALUES (5, 'Michael', 7, 3000, 'Manager');\n",
    "INSERT INTO employees (id, name, manager_id, salary, designation) VALUES (6, 'Arvind', 7, 2400, 'Architect');\n",
    "INSERT INTO employees (id, name, manager_id, salary, designation) VALUES (7, 'Asha', 1, 4200, 'CTO');\n",
    "INSERT INTO employees (id, name, manager_id, salary, designation) VALUES (8, 'Maryam', 1, 3500, 'Manager');\n",
    "INSERT INTO employees (id, name, manager_id, salary, designation) VALUES (9, 'Reshma', 8, 2000, 'Business Analyst');"
   ]
  },
  {
   "cell_type": "code",
   "execution_count": 0,
   "metadata": {
    "application/vnd.databricks.v1+cell": {
     "cellMetadata": {
      "byteLimit": 2048000,
      "implicitDf": true,
      "rowLimit": 10000
     },
     "inputWidgets": {},
     "nuid": "188989c2-2ba8-481c-bae9-decbddc6c2f4",
     "showTitle": false,
     "tableResultSettingsMap": {},
     "title": ""
    }
   },
   "outputs": [],
   "source": [
    "%sql\n",
    "\n",
    "select * from erm.employees order by id \n"
   ]
  },
  {
   "cell_type": "code",
   "execution_count": 0,
   "metadata": {
    "application/vnd.databricks.v1+cell": {
     "cellMetadata": {
      "byteLimit": 2048000,
      "implicitDf": true,
      "rowLimit": 10000
     },
     "inputWidgets": {},
     "nuid": "2906a315-24c5-45b4-97ea-1437c6c13b35",
     "showTitle": false,
     "tableResultSettingsMap": {},
     "title": ""
    }
   },
   "outputs": [],
   "source": [
    "%sql\n",
    "\n",
    "with recursive mgr as (\n",
    "\n",
    "  select id, name, manager_id from erm.employees where name='David'\n",
    "  union all\n",
    "  select e.id, e.name, e.manager_id from mgr m \n",
    "  join erm.employees e on m.manager_id = e.id\n",
    ")\n",
    "select * from mgr "
   ]
  },
  {
   "cell_type": "code",
   "execution_count": 0,
   "metadata": {
    "application/vnd.databricks.v1+cell": {
     "cellMetadata": {
      "byteLimit": 2048000,
      "implicitDf": true,
      "rowLimit": 10000
     },
     "inputWidgets": {},
     "nuid": "8479b31c-6a35-4016-9fd7-5c3a04a7a496",
     "showTitle": false,
     "tableResultSettingsMap": {},
     "title": ""
    }
   },
   "outputs": [],
   "source": [
    "%sql\n",
    "\n",
    "with recursive undermgr as (\n",
    "\n",
    "select id,name,manager_id,1 as level from erm.employees where name='Asha'\n",
    "union all \n",
    "select e.id,e.name,e.manager_id, u.level+1 as level from undermgr u\n",
    "join erm.employees e on u.id = e.manager_id\n",
    ")\n",
    "select * from undermgr\n"
   ]
  }
 ],
 "metadata": {
  "application/vnd.databricks.v1+notebook": {
   "computePreferences": null,
   "dashboards": [],
   "environmentMetadata": {
    "base_environment": "",
    "environment_version": "2"
   },
   "inputWidgetPreferences": null,
   "language": "python",
   "notebookMetadata": {
    "mostRecentlyExecutedCommandWithImplicitDF": {
     "commandId": 4619706960551492,
     "dataframes": [
      "_sqldf"
     ]
    },
    "pythonIndentUnit": 4
   },
   "notebookName": "Recursive",
   "widgets": {}
  },
  "language_info": {
   "name": "python"
  }
 },
 "nbformat": 4,
 "nbformat_minor": 0
}
