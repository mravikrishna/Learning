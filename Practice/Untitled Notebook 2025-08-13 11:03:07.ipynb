{
 "cells": [
  {
   "cell_type": "code",
   "execution_count": 0,
   "metadata": {
    "application/vnd.databricks.v1+cell": {
     "cellMetadata": {
      "byteLimit": 2048000,
      "rowLimit": 10000
     },
     "inputWidgets": {},
     "nuid": "732f840d-f57f-4f0c-8418-694f262557aa",
     "showTitle": false,
     "tableResultSettingsMap": {},
     "title": ""
    }
   },
   "outputs": [],
   "source": [
    "def sol(N):\n",
    "    print(bin(N))\n",
    "    print(bin(N)[2:])\n",
    "    print(bin(N)[2:].strip('0'))\n",
    "    print(bin(N)[2:].strip('0').split('1'))\n",
    "    gaps = bin(N)[2:].strip('0').split('1')\n",
    "    return max(len(i) for i in gaps)\n",
    "\n",
    "print(sol(32))   "
   ]
  }
 ],
 "metadata": {
  "application/vnd.databricks.v1+notebook": {
   "computePreferences": null,
   "dashboards": [],
   "environmentMetadata": {
    "base_environment": "",
    "environment_version": "2"
   },
   "inputWidgetPreferences": null,
   "language": "python",
   "notebookMetadata": {
    "pythonIndentUnit": 4
   },
   "notebookName": "Untitled Notebook 2025-08-13 11:03:07",
   "widgets": {}
  },
  "language_info": {
   "name": "python"
  }
 },
 "nbformat": 4,
 "nbformat_minor": 0
}
