{
 "cells": [
  {
   "cell_type": "code",
   "execution_count": 0,
   "metadata": {
    "application/vnd.databricks.v1+cell": {
     "cellMetadata": {
      "byteLimit": 2048000,
      "rowLimit": 10000
     },
     "inputWidgets": {},
     "nuid": "c3a6bb86-561c-4fa5-b6f0-a22df4a612ef",
     "showTitle": false,
     "tableResultSettingsMap": {},
     "title": ""
    }
   },
   "outputs": [],
   "source": [
    "from pyspark.sql.functions import *\n",
    "\n",
    "users = [(1,\"A\",100),(2,\"B\",500),(3,\"C\",400),(4,\"D\",300),(5,\"E\",None),(6,\"F\",700),(7,\"G\",None)]\n",
    "users_df = spark.createDataFrame(users,schema = \"uid int , uname string,sal double\")\n",
    "users_df.show()"
   ]
  },
  {
   "cell_type": "code",
   "execution_count": 0,
   "metadata": {
    "application/vnd.databricks.v1+cell": {
     "cellMetadata": {
      "byteLimit": 2048000,
      "rowLimit": 10000
     },
     "inputWidgets": {},
     "nuid": "d37eac31-033b-4199-886e-d086e4b0c373",
     "showTitle": false,
     "tableResultSettingsMap": {},
     "title": ""
    }
   },
   "outputs": [],
   "source": [
    "new_users = [(4,\"D\",300),(5,\"E\",700),(6,\"X\",700),(8,\"H\",None),(9,\"I\",None)]\n",
    "new_df = spark.createDataFrame(new_users,schema = \"uid int , uname string,sal double\")\n",
    "new_df.show()"
   ]
  },
  {
   "cell_type": "code",
   "execution_count": 0,
   "metadata": {
    "application/vnd.databricks.v1+cell": {
     "cellMetadata": {
      "byteLimit": 2048000,
      "rowLimit": 10000
     },
     "inputWidgets": {},
     "nuid": "1495e51c-42de-4d02-b674-e7ac15fb6ae4",
     "showTitle": false,
     "tableResultSettingsMap": {},
     "title": ""
    }
   },
   "outputs": [],
   "source": [
    "result_df = users_df.alias(\"o\").join(new_df.alias(\"n\"),\"uid\",\"outer\")\n",
    "\n",
    "result_df.select(\"uid\",coalesce(col(\"n.uname\"),col(\"o.uname\")).alias(\"uname\"), coalesce(col(\"n.sal\"),col(\"o.sal\")).alias(\"sal\")).show() \n"
   ]
  },
  {
   "cell_type": "code",
   "execution_count": 0,
   "metadata": {
    "application/vnd.databricks.v1+cell": {
     "cellMetadata": {},
     "inputWidgets": {},
     "nuid": "cb84e603-1e1d-4187-8744-87e5296100dd",
     "showTitle": false,
     "tableResultSettingsMap": {},
     "title": ""
    }
   },
   "outputs": [],
   "source": []
  }
 ],
 "metadata": {
  "application/vnd.databricks.v1+notebook": {
   "computePreferences": null,
   "dashboards": [],
   "environmentMetadata": {
    "base_environment": "",
    "environment_version": "3"
   },
   "inputWidgetPreferences": null,
   "language": "python",
   "notebookMetadata": {
    "pythonIndentUnit": 4
   },
   "notebookName": "Full Outer Joins",
   "widgets": {}
  },
  "language_info": {
   "name": "python"
  }
 },
 "nbformat": 4,
 "nbformat_minor": 0
}
