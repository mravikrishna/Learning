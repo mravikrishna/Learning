{
 "cells": [
  {
   "cell_type": "code",
   "execution_count": 0,
   "metadata": {
    "application/vnd.databricks.v1+cell": {
     "cellMetadata": {
      "byteLimit": 2048000,
      "rowLimit": 10000
     },
     "inputWidgets": {},
     "nuid": "7d3ed903-922c-4629-a4d5-fbaa5a3ceadb",
     "showTitle": false,
     "tableResultSettingsMap": {},
     "title": ""
    }
   },
   "outputs": [],
   "source": [
    "from pyspark.sql.functions import *\n",
    "import pandas as pd\n",
    "\n",
    "load = [(1,\"A\",100,\"2025-08-01 08:30:55\",\"9999-01-01 00:00:00\",True),(2,\"B\",None,\"2025-08-01 08:30:55\",\"9999-01-01 00:00:00\",True),(3,\"C\",400,\"2025-08-01 08:30:55\",\"9999-01-01 00:00:00\",True),(4,\"D\",300,\"2025-08-01 08:30:55\",\"9999-01-01 00:00:00\",True),(5,\"E\",None,\"2025-08-01 08:30:55\",\"9999-01-01 00:00:00\",True),(6,\"F\",700,\"2025-08-01 08:30:55\",\"9999-01-01 00:00:00\",True),(7,\"G\",1000,\"2025-08-01 08:30:55\",\"2025-08-05 08:30:55\",False),(7,\"G\",600,\"2025-08-05 08:30:55\",\"9999-01-01 00:00:00\",True)]\n",
    "\n",
    "load_df = spark.createDataFrame(load,schema = \"uid int, uname string, sal double, start_date string, end_date string, is_active boolean\")\n",
    "#load_df.show()\n",
    "\n",
    "target_df = load_df.withColumn(\"start_date\", to_timestamp(\"start_date\"))\\\n",
    "    .withColumn(\"end_date\",to_timestamp(\"end_date\"))\n",
    "\n",
    "target_df.show() \n",
    "target_df.dtypes "
   ]
  },
  {
   "cell_type": "code",
   "execution_count": 0,
   "metadata": {
    "application/vnd.databricks.v1+cell": {
     "cellMetadata": {
      "byteLimit": 2048000,
      "rowLimit": 10000
     },
     "inputWidgets": {},
     "nuid": "f5bbe979-e817-49ec-9827-69ee560c6196",
     "showTitle": false,
     "tableResultSettingsMap": {},
     "title": ""
    }
   },
   "outputs": [],
   "source": [
    "target_hash_df = target_df.withColumn(\"hash\",xxhash64(\"uid\",\"uname\",\"sal\")).select(\"uid\",\"uname\",\"sal\",\"hash\")\n",
    "target_hash_df.show()"
   ]
  },
  {
   "cell_type": "code",
   "execution_count": 0,
   "metadata": {
    "application/vnd.databricks.v1+cell": {
     "cellMetadata": {
      "byteLimit": 2048000,
      "rowLimit": 10000
     },
     "inputWidgets": {},
     "nuid": "e231094c-d8ea-47c9-abdb-11dc5de1683f",
     "showTitle": false,
     "tableResultSettingsMap": {},
     "title": ""
    }
   },
   "outputs": [],
   "source": [
    "new_users = [(4,\"D\",300),(5,\"E\",700),(6,\"X\",700),(8,\"H\",None),(9,\"I\",None)]\n",
    "new_df = spark.createDataFrame(new_users,schema = \"uid int , uname string,sal double\")\n",
    "new_df.show()"
   ]
  },
  {
   "cell_type": "code",
   "execution_count": 0,
   "metadata": {
    "application/vnd.databricks.v1+cell": {
     "cellMetadata": {
      "byteLimit": 2048000,
      "rowLimit": 10000
     },
     "inputWidgets": {},
     "nuid": "b1dcf803-bb9e-411f-8306-004bdfbf7dba",
     "showTitle": false,
     "tableResultSettingsMap": {},
     "title": ""
    }
   },
   "outputs": [],
   "source": [
    "new_hash_df = new_df.withColumn(\"hash\",xxhash64(\"uid\",\"uname\",\"sal\")).select(\"uid\",\"uname\",\"sal\",\"hash\")\n",
    "new_hash_df.show()"
   ]
  },
  {
   "cell_type": "code",
   "execution_count": 0,
   "metadata": {
    "application/vnd.databricks.v1+cell": {
     "cellMetadata": {
      "byteLimit": 2048000,
      "rowLimit": 10000
     },
     "inputWidgets": {},
     "nuid": "ba37bcbb-0c33-49e1-8aba-6ab4c0c6075f",
     "showTitle": false,
     "tableResultSettingsMap": {},
     "title": ""
    }
   },
   "outputs": [],
   "source": [
    "join_df = new_hash_df.join(target_hash_df,\"hash\",\"left_anti\").drop(\"hash\")\n",
    "join_df.show()"
   ]
  },
  {
   "cell_type": "code",
   "execution_count": 0,
   "metadata": {
    "application/vnd.databricks.v1+cell": {
     "cellMetadata": {
      "byteLimit": 2048000,
      "rowLimit": 10000
     },
     "inputWidgets": {},
     "nuid": "2a68f0cd-f884-462c-b000-45fad42f8974",
     "showTitle": false,
     "tableResultSettingsMap": {},
     "title": ""
    }
   },
   "outputs": [],
   "source": [
    "save_df = join_df.withColumn(\"start_date\", date_format(current_timestamp(),\"yyyy-MM-dd HH:mm:ss\"))\\\n",
    "    .withColumn(\"end_date\",to_timestamp(lit(\"9999-01-01 00:00:00\")))\\\n",
    "    .withColumn(\"is_active\",lit(True))\n",
    "    \n",
    "save_df.show(truncate= False)"
   ]
  },
  {
   "cell_type": "code",
   "execution_count": 0,
   "metadata": {
    "application/vnd.databricks.v1+cell": {
     "cellMetadata": {
      "byteLimit": 2048000,
      "rowLimit": 10000
     },
     "inputWidgets": {},
     "nuid": "aa5d0539-fab2-45dc-aab3-70059836e5bb",
     "showTitle": false,
     "tableResultSettingsMap": {},
     "title": ""
    }
   },
   "outputs": [],
   "source": [
    "#target_df.show()\n",
    "#save_df.show()\n",
    "\n",
    "union_df = target_df.unionAll(save_df)\n",
    "union_df.orderBy(\"uid\").show()"
   ]
  },
  {
   "cell_type": "code",
   "execution_count": 0,
   "metadata": {
    "application/vnd.databricks.v1+cell": {
     "cellMetadata": {
      "byteLimit": 2048000,
      "rowLimit": 10000
     },
     "inputWidgets": {},
     "nuid": "4a6161ce-1883-4eb1-a928-b522f169cbf4",
     "showTitle": false,
     "tableResultSettingsMap": {},
     "title": ""
    }
   },
   "outputs": [],
   "source": [
    "from pyspark.sql.window import Window\n",
    "windspec = Window.partitionBy(\"uid\").orderBy(desc(\"start_date\"))\n",
    "rnk_df = union_df.withColumn(\"rnk\", row_number().over(windspec))\n",
    "rnk_df.show()\n"
   ]
  },
  {
   "cell_type": "code",
   "execution_count": 0,
   "metadata": {
    "application/vnd.databricks.v1+cell": {
     "cellMetadata": {
      "byteLimit": 2048000,
      "rowLimit": 10000
     },
     "inputWidgets": {},
     "nuid": "d063d3c1-3688-4916-be39-c6feb00fcdf1",
     "showTitle": false,
     "tableResultSettingsMap": {},
     "title": ""
    }
   },
   "outputs": [],
   "source": [
    "active_df = rnk_df.withColumn(\"is_active\", when(col(\"rnk\")==lit(2),False).otherwise(col(\"is_active\")))\n",
    "final_df= active_df.withColumn(\"end_date\", when(col(\"rnk\")==lit(2),lag(\"start_date\").over(Window.partitionBy(\"uid\").orderBy(\"rnk\"))).otherwise(col(\"end_date\")))\n",
    "final_df.show()\n",
    "    "
   ]
  }
 ],
 "metadata": {
  "application/vnd.databricks.v1+notebook": {
   "computePreferences": null,
   "dashboards": [],
   "environmentMetadata": {
    "base_environment": "",
    "environment_version": "3"
   },
   "inputWidgetPreferences": null,
   "language": "python",
   "notebookMetadata": {
    "pythonIndentUnit": 4
   },
   "notebookName": "Left Anti Join SCD2",
   "widgets": {}
  },
  "language_info": {
   "name": "python"
  }
 },
 "nbformat": 4,
 "nbformat_minor": 0
}
