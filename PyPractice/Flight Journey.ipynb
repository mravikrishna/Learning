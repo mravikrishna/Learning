{
 "cells": [
  {
   "cell_type": "code",
   "execution_count": 0,
   "metadata": {
    "application/vnd.databricks.v1+cell": {
     "cellMetadata": {
      "byteLimit": 2048000,
      "rowLimit": 10000
     },
     "inputWidgets": {},
     "nuid": "318b3c15-da55-48dd-859c-7b32530cc3fe",
     "showTitle": false,
     "tableResultSettingsMap": {},
     "title": ""
    }
   },
   "outputs": [],
   "source": [
    "\n",
    "from pyspark.sql import SparkSession\n",
    "from pyspark.sql.types import StructType, StructField, StringType, IntegerType, DoubleType, DateType\n",
    "from datetime import date\n",
    "\n",
    "# Start Spark session\n",
    "spark = SparkSession.builder.appName(\"CustomerProductOrder\").getOrCreate()\n",
    "\n",
    "fligt_schema = StructType([\n",
    "StructField(\"Flightnumber\",StringType()),\n",
    "StructField(\"FlightName\",StringType()),\n",
    "StructField(\"Origin_City\",StringType()),\n",
    "StructField(\"Destination_City\",StringType())\n",
    "]\n",
    ")\n",
    "\n",
    "flight_date =[\n",
    "(\"AIR100\",\"AirIndia\",\"Delhi\",\"Hyderabad\"),\n",
    "(\"AIR100\",\"AirIndia\",\"Hyderabad\",\"Banglore\"),\n",
    "(\"INDIGO50\",\"Indigo\",\"Indore\",\"Udaipur\"),\n",
    "(\"JET1700\",\"Jet Airways\",\"Mumbai\",\"Agra\"),\n",
    "(\"JET1700\",\"Jet Airways\",\"Agra\",\"Kolkata\"),\n",
    "(\"JET1700\",\"Jet Airways\",\"Kolkata\",\"Pune\"),\n",
    "(\"JET1700\",\"Jet Airways\",\"Pune\",\"Hyderabad\"),\n",
    "]\n",
    "\n",
    "flight_df = spark.createDataFrame(data=flight_date, schema=fligt_schema)\n",
    "flight_df.show()\n",
    "\n",
    "flight_df.createOrReplaceTempView(\"flights\")\n"
   ]
  },
  {
   "cell_type": "code",
   "execution_count": 0,
   "metadata": {
    "application/vnd.databricks.v1+cell": {
     "cellMetadata": {
      "byteLimit": 2048000,
      "rowLimit": 10000
     },
     "inputWidgets": {},
     "nuid": "067b14c0-71f1-47c8-bd82-475030ea5729",
     "showTitle": false,
     "tableResultSettingsMap": {},
     "title": ""
    }
   },
   "outputs": [],
   "source": [
    "from pyspark.sql.functions import last,first\n",
    "final_df=flight_df.orderBy('Flightnumber').groupBy('Flightnumber').agg(first('Origin_City').alias('origin'),last('Destination_City').alias('destination'))\n",
    "display(final_df)"
   ]
  },
  {
   "cell_type": "code",
   "execution_count": 0,
   "metadata": {
    "application/vnd.databricks.v1+cell": {
     "cellMetadata": {},
     "inputWidgets": {},
     "nuid": "6c72de5a-3fde-4a9d-a219-eec22d78e1a2",
     "showTitle": false,
     "tableResultSettingsMap": {},
     "title": ""
    }
   },
   "outputs": [],
   "source": []
  },
  {
   "cell_type": "code",
   "execution_count": 0,
   "metadata": {
    "application/vnd.databricks.v1+cell": {
     "cellMetadata": {
      "byteLimit": 2048000,
      "implicitDf": true,
      "rowLimit": 10000
     },
     "inputWidgets": {},
     "nuid": "fb1427ed-20f4-4660-9e25-0213c655d319",
     "showTitle": false,
     "tableResultSettingsMap": {},
     "title": ""
    }
   },
   "outputs": [],
   "source": [
    "%sql\n",
    "\n",
    "with base as (\n",
    "    SELECT *,\n",
    "           ROW_NUMBER() OVER(order by flightnumber) AS rn         \n",
    "    FROM flights\n",
    ")\n",
    "    SELECT *,\n",
    "           ROW_NUMBER() OVER (PARTITION BY Flightnumber ORDER BY rn) AS row_num_asc,\n",
    "           ROW_NUMBER() OVER (PARTITION BY Flightnumber ORDER BY rn DESC) AS row_num_desc\n",
    "    FROM base\n"
   ]
  },
  {
   "cell_type": "code",
   "execution_count": 0,
   "metadata": {
    "application/vnd.databricks.v1+cell": {
     "cellMetadata": {
      "byteLimit": 2048000,
      "implicitDf": true,
      "rowLimit": 10000
     },
     "inputWidgets": {},
     "nuid": "1f76ef74-ffe2-4fda-af18-efd1415b2ddf",
     "showTitle": false,
     "tableResultSettingsMap": {},
     "title": ""
    }
   },
   "outputs": [],
   "source": [
    "%sql\n",
    "with base as (\n",
    "    SELECT *,          \n",
    "           ROW_NUMBER() OVER (PARTITION BY Flightnumber ORDER BY ROW_NUMBER() OVER(order by flightnumber)) AS row_num_asc,\n",
    "           ROW_NUMBER() OVER (PARTITION BY Flightnumber ORDER BY ROW_NUMBER() OVER(order by flightnumber) DESC) AS row_num_desc         \n",
    "    FROM flights\n",
    ")\n",
    "SELECT DISTINCT\n",
    "    f.Flightnumber,\n",
    "    f.FlightName,\n",
    "    first_leg.Origin_city,\n",
    "    last_leg.Destination_city\n",
    "FROM base f\n",
    "JOIN base first_leg \n",
    "    ON f.Flightnumber = first_leg.Flightnumber \n",
    "    AND first_leg.row_num_asc = 1\n",
    "JOIN base last_leg \n",
    "    ON f.Flightnumber = last_leg.Flightnumber \n",
    "    AND last_leg.row_num_desc = 1\n"
   ]
  },
  {
   "cell_type": "code",
   "execution_count": 0,
   "metadata": {
    "application/vnd.databricks.v1+cell": {
     "cellMetadata": {
      "byteLimit": 2048000,
      "implicitDf": true,
      "rowLimit": 10000
     },
     "inputWidgets": {},
     "nuid": "9dfde807-98e0-4d2a-b19b-5917862affb9",
     "showTitle": false,
     "tableResultSettingsMap": {},
     "title": ""
    }
   },
   "outputs": [],
   "source": [
    "%sql\n",
    "with base as (\n",
    "    SELECT *,\n",
    "           ROW_NUMBER() OVER(order by flightnumber) AS rn         \n",
    "    FROM flights\n",
    "),\n",
    "ranked AS (\n",
    "    SELECT *,\n",
    "           ROW_NUMBER() OVER (PARTITION BY Flightnumber ORDER BY rn) AS row_num_asc,\n",
    "           ROW_NUMBER() OVER (PARTITION BY Flightnumber ORDER BY rn DESC) AS row_num_desc\n",
    "    FROM base\n",
    ")\n",
    "SELECT DISTINCT\n",
    "    f.Flightnumber,\n",
    "    f.FlightName,\n",
    "    first_leg.Origin_city,\n",
    "    last_leg.Destination_city\n",
    "FROM ranked f\n",
    "JOIN ranked first_leg \n",
    "    ON f.Flightnumber = first_leg.Flightnumber \n",
    "    AND first_leg.row_num_asc = 1\n",
    "JOIN ranked last_leg \n",
    "    ON f.Flightnumber = last_leg.Flightnumber \n",
    "    AND last_leg.row_num_desc = 1\n"
   ]
  },
  {
   "cell_type": "code",
   "execution_count": 0,
   "metadata": {
    "application/vnd.databricks.v1+cell": {
     "cellMetadata": {
      "byteLimit": 2048000,
      "rowLimit": 10000
     },
     "inputWidgets": {},
     "nuid": "8389b0a0-435e-4358-86fa-a4b476b8e801",
     "showTitle": false,
     "tableResultSettingsMap": {
      "0": {
       "dataGridStateBlob": "{\"version\":1,\"tableState\":{\"columnPinning\":{\"left\":[\"#row_number#\"],\"right\":[]},\"columnSizing\":{},\"columnVisibility\":{}},\"settings\":{\"columns\":{}},\"syncTimestamp\":1757445499240}",
       "filterBlob": null,
       "queryPlanFiltersBlob": null,
       "tableResultIndex": 0
      }
     },
     "title": ""
    }
   },
   "outputs": [],
   "source": [
    "flights_data = [(1,'Flight2' , 'Los Angeles' , 'London'),\n",
    "(1,'Flight1' , 'London' , 'Vatican'),\n",
    "(1,'Flight3' , 'Vatican' , 'Nantes'),\n",
    "(2,'Flight1' , 'Houston' , 'Paris'),\n",
    "(2,'Flight2' , 'Paris' , 'Nice')\n",
    "]\n",
    "\n",
    "schema = \"cust_id int, flight_id string , origin string , destination string\"\n",
    "flights_df = spark.createDataFrame(flights_data,schema)\n",
    "display(flights_df)\n",
    "\n",
    "from pyspark.sql.functions import last,first\n",
    "final_df=flights_df.orderBy('cust_id','flight_id').groupBy('cust_id').agg(first('origin').alias('origin'),last('destination').alias('destination'))\n",
    "display(final_df)"
   ]
  }
 ],
 "metadata": {
  "application/vnd.databricks.v1+notebook": {
   "computePreferences": {
    "hardware": {
     "accelerator": null,
     "gpuPoolId": null,
     "memory": null
    }
   },
   "dashboards": [],
   "environmentMetadata": {
    "base_environment": "",
    "environment_version": "2"
   },
   "inputWidgetPreferences": null,
   "language": "python",
   "notebookMetadata": {
    "mostRecentlyExecutedCommandWithImplicitDF": {
     "commandId": 7940033933804894,
     "dataframes": [
      "_sqldf"
     ]
    },
    "pythonIndentUnit": 4
   },
   "notebookName": "Flight Journey",
   "widgets": {}
  },
  "language_info": {
   "name": "python"
  }
 },
 "nbformat": 4,
 "nbformat_minor": 0
}
