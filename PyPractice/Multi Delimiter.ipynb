{
 "cells": [
  {
   "cell_type": "code",
   "execution_count": 0,
   "metadata": {
    "application/vnd.databricks.v1+cell": {
     "cellMetadata": {
      "byteLimit": 2048000,
      "rowLimit": 10000
     },
     "inputWidgets": {},
     "nuid": "ff7e0da9-06f2-4bcd-b5ba-07e6ba612b7b",
     "showTitle": false,
     "tableResultSettingsMap": {},
     "title": ""
    }
   },
   "outputs": [],
   "source": [
    "from pyspark.sql import SparkSession\n",
    "from pyspark.sql.functions import split, regexp_replace\n",
    "\n",
    "spark = SparkSession.builder.appName(\"MultiDelimiter\").getOrCreate()\n",
    "\n",
    "list = ['|',',']\n",
    "\n",
    "# Sample data as a list of strings\n",
    "data = [\n",
    "    '\"id\",\"name\",\"add\"|\"age\"|\"sal\"',\n",
    "    '\"1\",\"A\",\"abc,test\"|\"40\"|\"100\"',\n",
    "    '\"2\",\"B\",\"abc|test\"|\"40\"|\"100\"'\n",
    "]\n",
    "\n",
    "# Create a DataFrame from the sample data\n",
    "df = spark.createDataFrame(data,\"string\" ).toDF(\"value\")\n",
    "df.show(truncate =False)\n",
    "\n"
   ]
  },
  {
   "cell_type": "code",
   "execution_count": 0,
   "metadata": {
    "application/vnd.databricks.v1+cell": {
     "cellMetadata": {
      "byteLimit": 2048000,
      "rowLimit": 10000
     },
     "inputWidgets": {},
     "nuid": "cd2fa271-06cc-4ba2-a4cd-a668b5e776ad",
     "showTitle": false,
     "tableResultSettingsMap": {},
     "title": ""
    }
   },
   "outputs": [],
   "source": [
    "\n",
    "# Step 1: Replace '|' with ',' so we have a unified delimiter\n",
    "df_replaced = df.withColumn(\"value\", regexp_replace(\"value\", r\"\\|\", \",\"))\n",
    "\n",
    "# Step 2: Split into columns\n",
    "df_split = df_replaced.withColumn(\n",
    "    \"parts\", split(\"value\", \",\")\n",
    ")\n",
    "\n",
    "# Step 3: Map array elements to columns\n",
    "df_final = df_split.select(\n",
    "    df_split.parts.getItem(0).alias(\"id\"),\n",
    "    df_split.parts.getItem(1).alias(\"name\"),\n",
    "    df_split.parts.getItem(2).alias(\"add\"),\n",
    "    df_split.parts.getItem(3).alias(\"age\"),\n",
    "    df_split.parts.getItem(4).alias(\"sal\")\n",
    ")\n",
    "                 \n",
    "= df_final.first"
   ]
  }
 ],
 "metadata": {
  "application/vnd.databricks.v1+notebook": {
   "computePreferences": null,
   "dashboards": [],
   "environmentMetadata": {
    "base_environment": "",
    "environment_version": "2"
   },
   "inputWidgetPreferences": null,
   "language": "python",
   "notebookMetadata": {
    "pythonIndentUnit": 4
   },
   "notebookName": "Multi Delimiter",
   "widgets": {}
  },
  "language_info": {
   "name": "python"
  }
 },
 "nbformat": 4,
 "nbformat_minor": 0
}
