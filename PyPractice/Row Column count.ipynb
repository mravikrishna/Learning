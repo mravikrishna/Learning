{
 "cells": [
  {
   "cell_type": "code",
   "execution_count": 0,
   "metadata": {
    "application/vnd.databricks.v1+cell": {
     "cellMetadata": {
      "byteLimit": 2048000,
      "rowLimit": 10000
     },
     "inputWidgets": {},
     "nuid": "487455af-7460-4bf5-885a-2458f25262f0",
     "showTitle": false,
     "tableResultSettingsMap": {},
     "title": ""
    }
   },
   "outputs": [],
   "source": [
    "# EMP DataFrame\n",
    "empData = [(1,\"Smith\",10,None,3000),\n",
    "    (2,\"Rose\",20,\"M\",4000),\n",
    "    (3,\"Williams\",10,\"M\",1000),\n",
    "    (4,\"Jones\",10,\"F\",2000),\n",
    "    (5,\"Brown\",30,\"\",-1),\n",
    "    (6,\"Brown\",30,\"\",-1)\n",
    "  ]\n",
    "  \n",
    "empColumns = [\"emp id\",\"first name\",\"dept id\",\n",
    "  \"gender\",\"salary\"]\n",
    "empDF = spark.createDataFrame(empData,empColumns)\n",
    "empDF.show()"
   ]
  },
  {
   "cell_type": "code",
   "execution_count": 0,
   "metadata": {
    "application/vnd.databricks.v1+cell": {
     "cellMetadata": {
      "byteLimit": 2048000,
      "rowLimit": 10000
     },
     "inputWidgets": {},
     "nuid": "5818b2b9-87ef-4cc3-8b40-08c77d4b2fc8",
     "showTitle": false,
     "tableResultSettingsMap": {},
     "title": ""
    }
   },
   "outputs": [],
   "source": [
    "newlist=[] \n",
    "for col in empDF.columns:\n",
    "    newlist.append(col.replace(\" \",\"_\"))\n",
    "   \n",
    "print(list(newlist))   \n",
    "newdf = empDF.toDF(*newlist)    \n",
    "for col in newdf.columns:\n",
    "    print(col)\n"
   ]
  },
  {
   "cell_type": "code",
   "execution_count": 0,
   "metadata": {
    "application/vnd.databricks.v1+cell": {
     "cellMetadata": {
      "byteLimit": 2048000,
      "rowLimit": 10000
     },
     "inputWidgets": {},
     "nuid": "5878e72d-114f-4ba1-a51c-1004c14b5305",
     "showTitle": false,
     "tableResultSettingsMap": {},
     "title": ""
    }
   },
   "outputs": [],
   "source": [
    "# EMP DataFrame\n",
    "empData = [(1,\"Smith\",10,None,3000),\n",
    "    (2,\"Rose\",20,\"M\",4000),\n",
    "    (3,\"Williams\",10,\"M\",1000),\n",
    "    (4,\"Jones\",10,\"F\",2000),\n",
    "    (5,\"Brown\",30,\"\",-1),\n",
    "    (6,\"Brown\",30,\"\",-1)\n",
    "  ]\n",
    "  \n",
    "empColumns = [\"emp_id\",\"name\",\"dept_id\",\n",
    "  \"gender\",\"salary\"]\n",
    "df = spark.createDataFrame(empData,empColumns)\n",
    "df.show()"
   ]
  },
  {
   "cell_type": "code",
   "execution_count": 0,
   "metadata": {
    "application/vnd.databricks.v1+cell": {
     "cellMetadata": {
      "byteLimit": 2048000,
      "rowLimit": 10000
     },
     "inputWidgets": {},
     "nuid": "069d5b68-bfbf-4ed9-951e-23ae443fdc54",
     "showTitle": false,
     "tableResultSettingsMap": {},
     "title": ""
    }
   },
   "outputs": [],
   "source": [
    "from pyspark.sql.functions import col,isnan, when, count,trim\n",
    "\n",
    "counts =[\n",
    "    count(when((col(c).isNull()) | (trim(col(c))==''),c)).alias(c)\n",
    "    for c in df.columns\n",
    "]\n",
    "df.select(counts).show()\n"
   ]
  },
  {
   "cell_type": "code",
   "execution_count": 0,
   "metadata": {
    "application/vnd.databricks.v1+cell": {
     "cellMetadata": {
      "byteLimit": 2048000,
      "rowLimit": 10000
     },
     "inputWidgets": {},
     "nuid": "2a760f3a-50c2-40f7-8119-25f9ff85deb2",
     "showTitle": false,
     "tableResultSettingsMap": {},
     "title": ""
    }
   },
   "outputs": [],
   "source": [
    "print(df.count())\n",
    "len(df.columns)"
   ]
  }
 ],
 "metadata": {
  "application/vnd.databricks.v1+notebook": {
   "computePreferences": null,
   "dashboards": [],
   "environmentMetadata": {
    "base_environment": "",
    "environment_version": "3"
   },
   "inputWidgetPreferences": null,
   "language": "python",
   "notebookMetadata": {
    "pythonIndentUnit": 4
   },
   "notebookName": "Row Column count",
   "widgets": {}
  },
  "language_info": {
   "name": "python"
  }
 },
 "nbformat": 4,
 "nbformat_minor": 0
}
