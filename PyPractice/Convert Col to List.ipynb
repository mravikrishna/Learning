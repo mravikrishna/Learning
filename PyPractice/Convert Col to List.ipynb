{
 "cells": [
  {
   "cell_type": "code",
   "execution_count": 0,
   "metadata": {
    "application/vnd.databricks.v1+cell": {
     "cellMetadata": {
      "byteLimit": 2048000,
      "rowLimit": 10000
     },
     "inputWidgets": {},
     "nuid": "1bedd125-d1b7-4f8a-bed2-09490be090e2",
     "showTitle": false,
     "tableResultSettingsMap": {},
     "title": ""
    }
   },
   "outputs": [],
   "source": [
    "from pyspark.sql.functions import *\n",
    "# Create DataFrame\n",
    "data = [(\"James\",\"Smith\",\"USA\",\"CA\"),(\"Michael\",\"Rose\",\"USA\",\"NY\"), \\\n",
    "    (\"Robert\",\"Williams\",\"USA\",\"CA\"),(\"Maria\",\"Jones\",\"USA\",\"FL\") \\\n",
    "  ]\n",
    "columns=[\"firstname\",\"lastname\",\"country\",\"state\"]\n",
    "df=spark.createDataFrame(data=data,schema=columns)\n",
    "df.show()"
   ]
  },
  {
   "cell_type": "code",
   "execution_count": 0,
   "metadata": {
    "application/vnd.databricks.v1+cell": {
     "cellMetadata": {
      "byteLimit": 2048000,
      "rowLimit": 10000
     },
     "inputWidgets": {},
     "nuid": "ffe16986-421c-4064-b22e-d161956d14a1",
     "showTitle": false,
     "tableResultSettingsMap": {},
     "title": ""
    }
   },
   "outputs": [],
   "source": [
    "pdf = df.select(\"state\").toPandas()\n",
    "print(pdf)\n",
    "\n",
    "state_list = list(pdf[\"state\"])\n",
    "print(state_list)\n",
    "\n",
    "dbutils.widgets.dropdown(\n",
    "  name='State_List',\n",
    "  defaultValue=state_list[0],\n",
    "  choices=state_list,\n",
    "  label='State List'\n",
    ")\n",
    "\n",
    "print(dbutils.widgets.get(\"State_List\"))\n",
    "\n"
   ]
  }
 ],
 "metadata": {
  "application/vnd.databricks.v1+notebook": {
   "computePreferences": null,
   "dashboards": [],
   "environmentMetadata": {
    "base_environment": "",
    "environment_version": "3"
   },
   "inputWidgetPreferences": null,
   "language": "python",
   "notebookMetadata": {
    "pythonIndentUnit": 4
   },
   "notebookName": "Convert Col to List",
   "widgets": {
    "State_List": {
     "currentValue": "FL",
     "nuid": "d8d1a559-1af4-4be4-bb24-0d4e8fd32f65",
     "typedWidgetInfo": {
      "autoCreated": false,
      "defaultValue": "CA",
      "label": "State List",
      "name": "State_List",
      "options": {
       "widgetDisplayType": "Dropdown",
       "choices": [
        "CA",
        "NY",
        "CA",
        "FL"
       ],
       "fixedDomain": true,
       "multiselect": false
      },
      "parameterDataType": "String"
     },
     "widgetInfo": {
      "widgetType": "dropdown",
      "defaultValue": "CA",
      "label": "State List",
      "name": "State_List",
      "options": {
       "widgetType": "dropdown",
       "autoCreated": null,
       "choices": [
        "CA",
        "NY",
        "CA",
        "FL"
       ]
      }
     }
    },
    "days_multiselect": {
     "currentValue": "Tuesday",
     "nuid": "37197900-98a3-47c8-93a8-13f22d83516f",
     "typedWidgetInfo": {
      "autoCreated": false,
      "defaultValue": "Tuesday",
      "label": "Days of the Week",
      "name": "days_multiselect",
      "options": {
       "widgetDisplayType": "Dropdown",
       "choices": [
        "Monday",
        "Tuesday",
        "Wednesday",
        "Thursday",
        "Friday",
        "Saturday",
        "Sunday"
       ],
       "fixedDomain": true,
       "multiselect": true
      },
      "parameterDataType": "String"
     },
     "widgetInfo": {
      "widgetType": "multiselect",
      "defaultValue": "Tuesday",
      "label": "Days of the Week",
      "name": "days_multiselect",
      "options": {
       "widgetType": "dropdown",
       "autoCreated": false,
       "choices": [
        "Monday",
        "Tuesday",
        "Wednesday",
        "Thursday",
        "Friday",
        "Saturday",
        "Sunday"
       ]
      }
     }
    },
    "toys_dropdown": {
     "currentValue": "CA",
     "nuid": "0106c451-1c6d-499a-bda2-283fa63979ae",
     "typedWidgetInfo": {
      "autoCreated": false,
      "defaultValue": "CA",
      "label": "Toys",
      "name": "toys_dropdown",
      "options": {
       "widgetDisplayType": "Dropdown",
       "choices": [
        "CA",
        "NY",
        "CA",
        "FL"
       ],
       "fixedDomain": true,
       "multiselect": false
      },
      "parameterDataType": "String"
     },
     "widgetInfo": {
      "widgetType": "dropdown",
      "defaultValue": "CA",
      "label": "Toys",
      "name": "toys_dropdown",
      "options": {
       "widgetType": "dropdown",
       "autoCreated": false,
       "choices": [
        "CA",
        "NY",
        "CA",
        "FL"
       ]
      }
     }
    }
   }
  },
  "language_info": {
   "name": "python"
  }
 },
 "nbformat": 4,
 "nbformat_minor": 0
}
