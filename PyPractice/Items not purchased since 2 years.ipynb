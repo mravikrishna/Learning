{
 "cells": [
  {
   "cell_type": "code",
   "execution_count": 0,
   "metadata": {
    "application/vnd.databricks.v1+cell": {
     "cellMetadata": {
      "byteLimit": 2048000,
      "rowLimit": 10000
     },
     "inputWidgets": {},
     "nuid": "1958a448-6ff2-4f52-a1af-e4fb20d99ee1",
     "showTitle": false,
     "tableResultSettingsMap": {},
     "title": ""
    }
   },
   "outputs": [],
   "source": [
    "from pyspark.sql import SparkSession\n",
    "from pyspark.sql.types import StructType, StructField, StringType, IntegerType, DoubleType, DateType\n",
    "from datetime import date\n",
    "\n",
    "# Start Spark session\n",
    "spark = SparkSession.builder.appName(\"CustomerProductOrder\").getOrCreate()\n",
    "\n",
    "# ======================\n",
    "# Customer table\n",
    "# ======================\n",
    "customer_schema = StructType([\n",
    "    StructField(\"cust_id\", IntegerType(), True),\n",
    "    StructField(\"name\", StringType(), True),\n",
    "    StructField(\"contact_number\", StringType(), True)\n",
    "])\n",
    "\n",
    "customer_data = [\n",
    "    (1, \"Alice\", \"9876543210\"),\n",
    "    (2, \"Bob\", \"8765432109\"),\n",
    "    (3, \"Charlie\", \"7654321098\")\n",
    "]\n",
    "\n",
    "df_customer = spark.createDataFrame(customer_data, schema=customer_schema)\n",
    "\n",
    "#"
   ]
  },
  {
   "cell_type": "code",
   "execution_count": 0,
   "metadata": {
    "application/vnd.databricks.v1+cell": {
     "cellMetadata": {
      "byteLimit": 2048000,
      "rowLimit": 10000
     },
     "inputWidgets": {},
     "nuid": "50365523-aac2-40e0-9eae-6889f2cd2318",
     "showTitle": false,
     "tableResultSettingsMap": {},
     "title": ""
    }
   },
   "outputs": [],
   "source": [
    "# ======================\n",
    "# Product table\n",
    "# ======================\n",
    "product_schema = StructType([\n",
    "    StructField(\"product_id\", IntegerType(), True),\n",
    "    StructField(\"name\", StringType(), True),\n",
    "    StructField(\"description\", StringType(), True)\n",
    "])\n",
    "\n",
    "product_data = [\n",
    "    (101, \"Laptop\", \"Gaming Laptop\"),\n",
    "    (102, \"Phone\", \"Smartphone with 5G\"),\n",
    "    (103, \"Tablet\", \"Android tablet\")\n",
    "]\n",
    "\n",
    "df_product = spark.createDataFrame(product_data, schema=product_schema)\n"
   ]
  },
  {
   "cell_type": "code",
   "execution_count": 0,
   "metadata": {
    "application/vnd.databricks.v1+cell": {
     "cellMetadata": {
      "byteLimit": 2048000,
      "rowLimit": 10000
     },
     "inputWidgets": {},
     "nuid": "1908696c-fabc-49bc-be3c-8a887f1ac13b",
     "showTitle": false,
     "tableResultSettingsMap": {},
     "title": ""
    }
   },
   "outputs": [],
   "source": [
    "\n",
    "# ======================\n",
    "# Order table\n",
    "# ======================\n",
    "order_schema = StructType([\n",
    "    StructField(\"sr_no\", IntegerType(), True),\n",
    "    StructField(\"order_id\", IntegerType(), True),\n",
    "    StructField(\"cust_id\", IntegerType(), True),\n",
    "    StructField(\"product_id\", IntegerType(), True),\n",
    "    StructField(\"transaction_date\", DateType(), True),\n",
    "    StructField(\"rate\", DoubleType(), True),\n",
    "    StructField(\"amount\", DoubleType(), True)\n",
    "])\n",
    "\n",
    "order_data = [\n",
    "    (1, 5001, 1, 101, date(2025, 8, 1), 80000.0, 80000.0),\n",
    "    (2, 5002, 2, 101, date(2024, 8, 2), 30000.0, 30000.0),\n",
    "    (3, 5003, 1, 103, date(2023, 8, 3), 15000.0, 15000.0),\n",
    "    (4, 5003, 2, 102, date(2022, 8, 3), 15000.0, 15000.0)\n",
    "]\n",
    "\n",
    "df_order = spark.createDataFrame(order_data, schema=order_schema)"
   ]
  },
  {
   "cell_type": "code",
   "execution_count": 0,
   "metadata": {
    "application/vnd.databricks.v1+cell": {
     "cellMetadata": {
      "byteLimit": 2048000,
      "rowLimit": 10000
     },
     "inputWidgets": {},
     "nuid": "64549ebf-3671-4ed2-bed1-288a0e42262a",
     "showTitle": false,
     "tableResultSettingsMap": {},
     "title": ""
    }
   },
   "outputs": [],
   "source": [
    "from pyspark.sql.functions import *\n",
    "df_customer.createOrReplaceTempView(\"customer\")\n",
    "df_product.createOrReplaceTempView(\"product\")\n",
    "df_order.createOrReplaceTempView(\"order\")\n",
    "\n"
   ]
  },
  {
   "cell_type": "code",
   "execution_count": 0,
   "metadata": {
    "application/vnd.databricks.v1+cell": {
     "cellMetadata": {
      "byteLimit": 2048000,
      "implicitDf": true,
      "rowLimit": 10000
     },
     "inputWidgets": {},
     "nuid": "58af6c3c-43dd-4a92-bc89-cd00fbbb3ffe",
     "showTitle": false,
     "tableResultSettingsMap": {},
     "title": ""
    }
   },
   "outputs": [],
   "source": [
    "%sql\n",
    "\n",
    "select *  from product where product_id not in (\n",
    "select o.product_id from order o  \n",
    "left join customer c on o.cust_id = c.cust_id \n",
    "left join product p on o.product_id = p.product_id\n",
    "where transaction_date > '2022-08-03'\n",
    ")\n",
    "\n",
    "\n"
   ]
  }
 ],
 "metadata": {
  "application/vnd.databricks.v1+notebook": {
   "computePreferences": null,
   "dashboards": [],
   "environmentMetadata": {
    "base_environment": "",
    "environment_version": "2"
   },
   "inputWidgetPreferences": null,
   "language": "python",
   "notebookMetadata": {
    "mostRecentlyExecutedCommandWithImplicitDF": {
     "commandId": 4657635039663319,
     "dataframes": [
      "_sqldf"
     ]
    },
    "pythonIndentUnit": 4
   },
   "notebookName": "Items not purchased since 2 years",
   "widgets": {}
  },
  "language_info": {
   "name": "python"
  }
 },
 "nbformat": 4,
 "nbformat_minor": 0
}
