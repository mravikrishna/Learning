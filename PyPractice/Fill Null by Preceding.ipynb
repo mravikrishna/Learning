{
 "cells": [
  {
   "cell_type": "code",
   "execution_count": 0,
   "metadata": {
    "application/vnd.databricks.v1+cell": {
     "cellMetadata": {
      "byteLimit": 2048000,
      "rowLimit": 10000
     },
     "inputWidgets": {},
     "nuid": "1f1ede86-4b33-4d6e-9fae-0ae4424def3a",
     "showTitle": false,
     "tableResultSettingsMap": {},
     "title": ""
    }
   },
   "outputs": [],
   "source": [
    "from pyspark.sql.functions import *\n",
    "from pyspark.sql.types import *\n",
    "\n",
    "job_skills_data = [\n",
    "    (1, 'Data Engineer', 'SQL'),\n",
    "    (2, None, 'Python'),\n",
    "    (3, None, 'AWS'),\n",
    "    (4, None, 'Snowflake'),\n",
    "    (5, None, 'Apache Spark'),\n",
    "    (6, 'Developer', 'Javascript'),\n",
    "    (7, None, 'HTML'),\n",
    "    (8, None, 'PHP'),\n",
    "    (9, 'Data Scientist', 'Python'),\n",
    "    (10, None, 'Machine Learning'),\n",
    "    (11, None, 'Deep Learning'),\n",
    "    (12, None, 'POWERBI')\n",
    "]\n",
    "\n",
    "job_skills_schema = \"id int , role string , skills string\"\n",
    "\n",
    "df = spark.createDataFrame(data = job_skills_data , schema = job_skills_schema)\n",
    "df.display()"
   ]
  },
  {
   "cell_type": "code",
   "execution_count": 0,
   "metadata": {
    "application/vnd.databricks.v1+cell": {
     "cellMetadata": {
      "byteLimit": 2048000,
      "rowLimit": 10000
     },
     "inputWidgets": {},
     "nuid": "115e0c0a-3acf-449e-a39a-ad8f0601cac8",
     "showTitle": false,
     "tableResultSettingsMap": {},
     "title": ""
    }
   },
   "outputs": [],
   "source": [
    "df1 = df.withColumn(\"flag\", when(df.role.isNotNull(),lit(1)).otherwise(lit(0)))\n",
    "df1.show()"
   ]
  },
  {
   "cell_type": "code",
   "execution_count": 0,
   "metadata": {
    "application/vnd.databricks.v1+cell": {
     "cellMetadata": {
      "byteLimit": 2048000,
      "rowLimit": 10000
     },
     "inputWidgets": {},
     "nuid": "06a1f2c4-35e7-40b3-9982-c32cbb8a0070",
     "showTitle": false,
     "tableResultSettingsMap": {},
     "title": ""
    }
   },
   "outputs": [],
   "source": [
    "df2 = df1.withColumn(\"runningSum\", sum('flag').over(Window.orderBy(\"id\")))\n",
    "df2.show()"
   ]
  },
  {
   "cell_type": "code",
   "execution_count": 0,
   "metadata": {
    "application/vnd.databricks.v1+cell": {
     "cellMetadata": {
      "byteLimit": 2048000,
      "rowLimit": 10000
     },
     "inputWidgets": {},
     "nuid": "91daa889-905f-4524-b202-c7cbf8b55a1b",
     "showTitle": false,
     "tableResultSettingsMap": {},
     "title": ""
    }
   },
   "outputs": [],
   "source": [
    "df3= df2.withColumn(\"newRole\",first(\"role\").over(Window.partitionBy(\"runningSum\")))\n",
    "df3.show()"
   ]
  },
  {
   "cell_type": "code",
   "execution_count": 0,
   "metadata": {
    "application/vnd.databricks.v1+cell": {
     "cellMetadata": {
      "byteLimit": 2048000,
      "rowLimit": 10000
     },
     "inputWidgets": {},
     "nuid": "1c98a9b1-e5b7-424b-8af9-8d4c8f60f9c7",
     "showTitle": false,
     "tableResultSettingsMap": {},
     "title": ""
    }
   },
   "outputs": [],
   "source": [
    "from pyspark.sql.window import Window\n",
    "from pyspark.sql.functions import last\n",
    "\n",
    "windspec = Window.orderBy(\"id\").rangeBetween(Window.unboundedPreceding,0)\n",
    "dfx = df.withColumn(\"newRole\", last(\"role\",ignorenulls=True).over(windspec))\n",
    "dfx.display()"
   ]
  },
  {
   "cell_type": "code",
   "execution_count": 0,
   "metadata": {
    "application/vnd.databricks.v1+cell": {
     "cellMetadata": {},
     "inputWidgets": {},
     "nuid": "38875a04-1b69-4d09-b837-82a35dfd4f90",
     "showTitle": false,
     "tableResultSettingsMap": {},
     "title": ""
    }
   },
   "outputs": [],
   "source": []
  }
 ],
 "metadata": {
  "application/vnd.databricks.v1+notebook": {
   "computePreferences": null,
   "dashboards": [],
   "environmentMetadata": {
    "base_environment": "",
    "environment_version": "3"
   },
   "inputWidgetPreferences": null,
   "language": "python",
   "notebookMetadata": {
    "pythonIndentUnit": 4
   },
   "notebookName": "Fill Null by Preceding",
   "widgets": {}
  },
  "language_info": {
   "name": "python"
  }
 },
 "nbformat": 4,
 "nbformat_minor": 0
}
