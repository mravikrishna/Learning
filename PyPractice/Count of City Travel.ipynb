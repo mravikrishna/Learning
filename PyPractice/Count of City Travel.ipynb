{
 "cells": [
  {
   "cell_type": "code",
   "execution_count": 0,
   "metadata": {
    "application/vnd.databricks.v1+cell": {
     "cellMetadata": {
      "byteLimit": 2048000,
      "rowLimit": 10000
     },
     "inputWidgets": {},
     "nuid": "6c51a3b4-de0b-4f84-a2a2-7b469a999527",
     "showTitle": false,
     "tableResultSettingsMap": {},
     "title": ""
    }
   },
   "outputs": [],
   "source": [
    "from pyspark.sql.functions import *\n",
    "\n",
    "\n",
    "list = [\n",
    "(\"T1\",\"B\",\"Pune\",\"Mumbai\"),\n",
    "(\"T2\",\"B\",\"Mumbai\",\"Pune\"),\n",
    "(\"T3\",\"M\",\"Pune\",\"Delhi\"),\n",
    "(\"T4\",\"D\",\"Mumbai\",\"Mumbai\"),\n",
    "(\"T5\",\"E\",\"Mumbai\",\"Pune\"),\n",
    "(\"T6\",\"E\",\"Pune\",\"Delhi\")\n",
    "]\n",
    "\n",
    "df = spark.createDataFrame(list,[\"time\",\"name\",\"source\",\"destination\"])\n",
    "df.show()\n",
    "df.createOrReplaceTempView(\"data\")\n"
   ]
  },
  {
   "cell_type": "code",
   "execution_count": 0,
   "metadata": {
    "application/vnd.databricks.v1+cell": {
     "cellMetadata": {
      "byteLimit": 2048000,
      "implicitDf": true,
      "rowLimit": 10000
     },
     "inputWidgets": {},
     "nuid": "4dd8b155-34e9-4462-96d6-43645d93e51c",
     "showTitle": false,
     "tableResultSettingsMap": {
      "0": {
       "dataGridStateBlob": "{\"version\":1,\"tableState\":{\"columnPinning\":{\"left\":[\"#row_number#\"],\"right\":[]},\"columnSizing\":{},\"columnVisibility\":{}},\"settings\":{\"columns\":{}},\"syncTimestamp\":1755455621127}",
       "filterBlob": null,
       "queryPlanFiltersBlob": null,
       "tableResultIndex": 0
      }
     },
     "title": ""
    }
   },
   "outputs": [],
   "source": [
    "%sql\n",
    "\n",
    "select *,row_number() over( partition by name order by time) as rownum,\n",
    "case when rownum=1 then source else destination end as source1,\n",
    "case when rownum=1 then destination else source end as destination1\n",
    "from data c "
   ]
  },
  {
   "cell_type": "code",
   "execution_count": 0,
   "metadata": {
    "application/vnd.databricks.v1+cell": {
     "cellMetadata": {
      "byteLimit": 2048000,
      "implicitDf": true,
      "rowLimit": 10000
     },
     "inputWidgets": {},
     "nuid": "2f2e5a86-c39f-495b-b93c-917324d9a16d",
     "showTitle": false,
     "tableResultSettingsMap": {},
     "title": ""
    }
   },
   "outputs": [],
   "source": [
    "%sql\n",
    "with base as (\n",
    "select *,row_number() over( partition by name order by time) as rownum,\n",
    "case when rownum=1 then source else destination end as source1,\n",
    "case when rownum=1 then destination else source end as destination1\n",
    "from data c \n",
    "), final as (\n",
    "select distinct name,source1,destination1,case when source1=destination1 then 0 else 1 end as flag\n",
    "from base b1\n",
    ")\n",
    "select name , sum(flag)\n",
    "from final \n",
    "group by name\n"
   ]
  },
  {
   "cell_type": "code",
   "execution_count": 0,
   "metadata": {
    "application/vnd.databricks.v1+cell": {
     "cellMetadata": {},
     "inputWidgets": {},
     "nuid": "a1c14eac-e814-45b5-af8f-ac716e7e0526",
     "showTitle": false,
     "tableResultSettingsMap": {},
     "title": ""
    }
   },
   "outputs": [],
   "source": []
  }
 ],
 "metadata": {
  "application/vnd.databricks.v1+notebook": {
   "computePreferences": {
    "hardware": {
     "accelerator": null,
     "gpuPoolId": null,
     "memory": null
    }
   },
   "dashboards": [],
   "environmentMetadata": {
    "base_environment": "",
    "environment_version": "2"
   },
   "inputWidgetPreferences": null,
   "language": "python",
   "notebookMetadata": {
    "mostRecentlyExecutedCommandWithImplicitDF": {
     "commandId": 7940033933804783,
     "dataframes": [
      "_sqldf"
     ]
    },
    "pythonIndentUnit": 4
   },
   "notebookName": "Count of City Travel",
   "widgets": {}
  },
  "language_info": {
   "name": "python"
  }
 },
 "nbformat": 4,
 "nbformat_minor": 0
}
