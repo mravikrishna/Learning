{
 "cells": [
  {
   "cell_type": "code",
   "execution_count": 0,
   "metadata": {
    "application/vnd.databricks.v1+cell": {
     "cellMetadata": {
      "byteLimit": 2048000,
      "rowLimit": 10000
     },
     "inputWidgets": {},
     "nuid": "327588ca-cc81-4b0b-be75-baf8d46ffc37",
     "showTitle": false,
     "tableResultSettingsMap": {},
     "title": ""
    }
   },
   "outputs": [],
   "source": [
    "from pyspark.sql.functions import *\n",
    "\n",
    "list =[\n",
    "    (\"A\",\"Pune\",100,\"2025-05-05\"),\n",
    "    (\"B\",\"Pune\",100,\"2025-05-05\"),\n",
    "    (\"C\",\"Pune\",100,\"2025-05-05\"),\n",
    "    (\"D\",None,100,\"2025-05-05\"),\n",
    "    (\"E\",\"\",100,\"2025-05-05\")\n",
    "    ]\n",
    "\n",
    "df = spark.createDataFrame(list,\"id string,name string,amount double,date string\")\n",
    "df.show()\n",
    "\n",
    "df.createOrReplaceTempView(\"data\")"
   ]
  },
  {
   "cell_type": "code",
   "execution_count": 0,
   "metadata": {
    "application/vnd.databricks.v1+cell": {
     "cellMetadata": {
      "byteLimit": 2048000,
      "implicitDf": true,
      "rowLimit": 10000
     },
     "inputWidgets": {},
     "nuid": "5db67279-7e48-4514-8128-5694ae25d664",
     "showTitle": false,
     "tableResultSettingsMap": {},
     "title": ""
    }
   },
   "outputs": [],
   "source": [
    "\n",
    "df1 =df.withColumn('length',length(col('name')))\n",
    "df1.filter((col('name').isNotNull()) & (length(col('name')) > lit(0))).show()\n",
    "\n",
    "#select * from data where name is not null and name!=''\n"
   ]
  }
 ],
 "metadata": {
  "application/vnd.databricks.v1+notebook": {
   "computePreferences": null,
   "dashboards": [],
   "environmentMetadata": {
    "base_environment": "",
    "environment_version": "2"
   },
   "inputWidgetPreferences": null,
   "language": "python",
   "notebookMetadata": {
    "mostRecentlyExecutedCommandWithImplicitDF": {
     "commandId": -1,
     "dataframes": [
      "_sqldf"
     ]
    },
    "pythonIndentUnit": 4
   },
   "notebookName": "Not null records",
   "widgets": {}
  },
  "language_info": {
   "name": "python"
  }
 },
 "nbformat": 4,
 "nbformat_minor": 0
}
