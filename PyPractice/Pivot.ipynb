{
 "cells": [
  {
   "cell_type": "code",
   "execution_count": 0,
   "metadata": {
    "application/vnd.databricks.v1+cell": {
     "cellMetadata": {
      "byteLimit": 2048000,
      "rowLimit": 10000
     },
     "inputWidgets": {},
     "nuid": "2dc3967f-1add-41ae-a04c-8e504a43917b",
     "showTitle": false,
     "tableResultSettingsMap": {},
     "title": ""
    }
   },
   "outputs": [],
   "source": [
    "data = [(\"apple\", 3), (\"banana\", 1), (\"cherry\", 2)]\n",
    "\n",
    "print(dict(data))\n",
    " "
   ]
  },
  {
   "cell_type": "code",
   "execution_count": 0,
   "metadata": {
    "application/vnd.databricks.v1+cell": {
     "cellMetadata": {
      "byteLimit": 2048000,
      "rowLimit": 10000
     },
     "inputWidgets": {},
     "nuid": "8627d0ea-cbfd-4da0-9db0-ed9591aafd98",
     "showTitle": false,
     "tableResultSettingsMap": {},
     "title": ""
    }
   },
   "outputs": [],
   "source": [
    "from pyspark.sql import SparkSession\n",
    "from pyspark.sql.functions import sum, col\n",
    "\n",
    "# Sample data\n",
    "data = [\n",
    "    (\"Banana\", 1000, \"USA\"),\n",
    "    (\"Carrots\", 1500, \"USA\"),\n",
    "    (\"Beans\", 1600, \"USA\"),\n",
    "    (\"Orange\", 2000, \"USA\"),\n",
    "    (\"Orange\", 1000, \"USA\"),\n",
    "    (\"Banana\", 400, \"China\"),\n",
    "    (\"Carrots\", 1200, \"China\"),\n",
    "    (\"Beans\", 1500, \"China\"),\n",
    "    (\"Orange\", 4000, \"China\"),\n",
    "    (\"Banana\", 2000, \"Canada\"),\n",
    "    (\"Carrots\", 2000, \"Canada\"),\n",
    "    (\"Beans\", 2000, \"Mexico\"),\n",
    "]\n",
    "\n",
    "spark = SparkSession.builder.getOrCreate()\n",
    "\n",
    "df = spark.createDataFrame(data, [\"Product\", \"Amount\", \"Country\"])\n",
    "df.show()\n"
   ]
  },
  {
   "cell_type": "code",
   "execution_count": 0,
   "metadata": {
    "application/vnd.databricks.v1+cell": {
     "cellMetadata": {
      "byteLimit": 2048000,
      "rowLimit": 10000
     },
     "inputWidgets": {},
     "nuid": "c6a9b669-0f17-4bb0-9c3f-ae4c77a16771",
     "showTitle": false,
     "tableResultSettingsMap": {},
     "title": ""
    }
   },
   "outputs": [],
   "source": [
    "df.groupBy(\"Product\").pivot(\"Country\").sum(\"Amount\").show()"
   ]
  },
  {
   "cell_type": "code",
   "execution_count": 0,
   "metadata": {
    "application/vnd.databricks.v1+cell": {
     "cellMetadata": {
      "byteLimit": 2048000,
      "rowLimit": 10000
     },
     "inputWidgets": {},
     "nuid": "cf3448f6-7b9b-4276-b867-66eaf8316df1",
     "showTitle": false,
     "tableResultSettingsMap": {},
     "title": ""
    }
   },
   "outputs": [],
   "source": [
    "\n",
    "# Pivot transformation\n",
    "pivot_df = (\n",
    "    \n",
    "    df.groupBy(\"Product\")\n",
    "      .pivot(\"Country\")\n",
    "      .sum(\"Amount\")\n",
    "      .orderBy(\"Product\")\n",
    ")\n",
    "\n",
    "pivot_df.show()"
   ]
  }
 ],
 "metadata": {
  "application/vnd.databricks.v1+notebook": {
   "computePreferences": null,
   "dashboards": [],
   "environmentMetadata": {
    "base_environment": "",
    "environment_version": "2"
   },
   "inputWidgetPreferences": null,
   "language": "python",
   "notebookMetadata": {
    "pythonIndentUnit": 4
   },
   "notebookName": "Pivot",
   "widgets": {}
  },
  "language_info": {
   "name": "python"
  }
 },
 "nbformat": 4,
 "nbformat_minor": 0
}
